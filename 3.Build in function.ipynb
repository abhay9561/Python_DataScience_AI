{
 "cells": [
  {
   "cell_type": "markdown",
   "id": "d8f16086",
   "metadata": {},
   "source": [
    "# Build in Function"
   ]
  },
  {
   "cell_type": "markdown",
   "id": "b5261493",
   "metadata": {},
   "source": [
    "Float function"
   ]
  },
  {
   "cell_type": "code",
   "execution_count": null,
   "id": "051342ed",
   "metadata": {
    "vscode": {
     "languageId": "plaintext"
    }
   },
   "outputs": [],
   "source": []
  }
 ],
 "metadata": {
  "language_info": {
   "name": "python"
  }
 },
 "nbformat": 4,
 "nbformat_minor": 5
}
