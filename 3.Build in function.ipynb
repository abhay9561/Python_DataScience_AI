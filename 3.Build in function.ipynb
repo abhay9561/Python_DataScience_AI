{
 "cells": [
  {
   "cell_type": "markdown",
   "id": "d8f16086",
   "metadata": {},
   "source": [
    "# Build in Function"
   ]
  },
  {
   "cell_type": "markdown",
   "id": "b5261493",
   "metadata": {},
   "source": [
    "Float function"
   ]
  },
  {
   "cell_type": "code",
   "execution_count": 9,
   "id": "051342ed",
   "metadata": {},
   "outputs": [
    {
     "name": "stdout",
     "output_type": "stream",
     "text": [
      "<class 'int'>\n",
      "10.0\n",
      "<class 'float'>\n"
     ]
    }
   ],
   "source": [
    "# change int to float\n",
    "num_1 = 10\n",
    "print(type(num_1))\n",
    "\n",
    "a = float(num_1)\n",
    "print(a)\n",
    "print(type(a))"
   ]
  },
  {
   "cell_type": "code",
   "execution_count": 10,
   "id": "a217572c",
   "metadata": {},
   "outputs": [
    {
     "name": "stdout",
     "output_type": "stream",
     "text": [
      "<class 'str'>\n",
      "3.14\n",
      "<class 'float'>\n"
     ]
    }
   ],
   "source": [
    "# change str to float\n",
    "a = \"3.14\"\n",
    "print(type(a))\n",
    "b = float(a)\n",
    "print(b)\n",
    "print(type(b))"
   ]
  },
  {
   "cell_type": "markdown",
   "id": "55aa7c96",
   "metadata": {},
   "source": [
    "Int function"
   ]
  },
  {
   "cell_type": "code",
   "execution_count": 16,
   "id": "2971c161",
   "metadata": {},
   "outputs": [
    {
     "name": "stdout",
     "output_type": "stream",
     "text": [
      "<class 'float'>\n",
      "5\n",
      "<class 'int'>\n"
     ]
    }
   ],
   "source": [
    "a = 5.3444\n",
    "print(type(a))\n",
    "c = int(a)\n",
    "print(c)\n",
    "print(type(c))"
   ]
  },
  {
   "cell_type": "code",
   "execution_count": 17,
   "id": "cb4497c4",
   "metadata": {},
   "outputs": [
    {
     "name": "stdout",
     "output_type": "stream",
     "text": [
      "<class 'str'>\n",
      "22\n",
      "<class 'int'>\n"
     ]
    }
   ],
   "source": [
    "a =\"22\"\n",
    "print(type(a))\n",
    "b = int(a)\n",
    "print(b)\n",
    "print(type(b))"
   ]
  },
  {
   "cell_type": "markdown",
   "id": "57117866",
   "metadata": {},
   "source": [
    "Str function"
   ]
  },
  {
   "cell_type": "code",
   "execution_count": 18,
   "id": "d4da8194",
   "metadata": {},
   "outputs": [
    {
     "name": "stdout",
     "output_type": "stream",
     "text": [
      "<class 'int'>\n",
      "56\n",
      "<class 'str'>\n"
     ]
    }
   ],
   "source": [
    "a = 56\n",
    "print(type(a))\n",
    "b = str(a)\n",
    "print(b)\n",
    "print(type(b))"
   ]
  },
  {
   "cell_type": "code",
   "execution_count": 22,
   "id": "30bf8ea8",
   "metadata": {},
   "outputs": [
    {
     "name": "stdout",
     "output_type": "stream",
     "text": [
      "<class 'int'>\n",
      "56\n",
      "<class 'str'>\n",
      "562\n",
      "58\n"
     ]
    }
   ],
   "source": [
    "a = 56\n",
    "print(type(a))\n",
    "b = str(a)\n",
    "print(b)\n",
    "print(type(b))\n",
    "c = \"2\"\n",
    "print(b+c)\n",
    "print(a+2)"
   ]
  },
  {
   "cell_type": "code",
   "execution_count": 26,
   "id": "a228f7db",
   "metadata": {},
   "outputs": [
    {
     "name": "stdout",
     "output_type": "stream",
     "text": [
      "<class 'float'>\n",
      "5.2654355\n",
      "<class 'str'>\n"
     ]
    }
   ],
   "source": [
    "x = 5.2654355\n",
    "print(type(x))\n",
    "y = str(x)\n",
    "print(y)\n",
    "print(type(y))"
   ]
  },
  {
   "cell_type": "markdown",
   "id": "4b707aa6",
   "metadata": {},
   "source": [
    "complex function"
   ]
  },
  {
   "cell_type": "code",
   "execution_count": 27,
   "id": "53398fac",
   "metadata": {},
   "outputs": [
    {
     "name": "stdout",
     "output_type": "stream",
     "text": [
      "(2+3j)\n"
     ]
    }
   ],
   "source": [
    "comp = complex(2,3)\n",
    "print(comp)"
   ]
  },
  {
   "cell_type": "code",
   "execution_count": 28,
   "id": "ca2e0f0a",
   "metadata": {},
   "outputs": [],
   "source": [
    "y = complex(6,89)"
   ]
  },
  {
   "cell_type": "code",
   "execution_count": 29,
   "id": "4214f67e",
   "metadata": {},
   "outputs": [
    {
     "name": "stdout",
     "output_type": "stream",
     "text": [
      "(6+89j)\n"
     ]
    }
   ],
   "source": [
    "print(y)"
   ]
  },
  {
   "cell_type": "markdown",
   "id": "a6ea9fc8",
   "metadata": {},
   "source": [
    "abs function = its always return possitive value "
   ]
  },
  {
   "cell_type": "code",
   "execution_count": 31,
   "id": "16376f0c",
   "metadata": {},
   "outputs": [
    {
     "name": "stdout",
     "output_type": "stream",
     "text": [
      "23\n"
     ]
    }
   ],
   "source": [
    "x = -23\n",
    "print(abs(x))"
   ]
  },
  {
   "cell_type": "code",
   "execution_count": 32,
   "id": "32172752",
   "metadata": {},
   "outputs": [
    {
     "name": "stdout",
     "output_type": "stream",
     "text": [
      "2.34556\n"
     ]
    }
   ],
   "source": [
    "y = -2.34556\n",
    "print(abs(y))"
   ]
  },
  {
   "cell_type": "code",
   "execution_count": 33,
   "id": "e760be80",
   "metadata": {},
   "outputs": [
    {
     "name": "stdout",
     "output_type": "stream",
     "text": [
      "5.0\n"
     ]
    }
   ],
   "source": [
    "z = -3+4j\n",
    "print(abs(z))"
   ]
  },
  {
   "cell_type": "markdown",
   "id": "11ddf0d1",
   "metadata": {},
   "source": [
    "len function"
   ]
  },
  {
   "cell_type": "code",
   "execution_count": 35,
   "id": "7afd9680",
   "metadata": {},
   "outputs": [
    {
     "name": "stdout",
     "output_type": "stream",
     "text": [
      "30\n"
     ]
    }
   ],
   "source": [
    "a = \"Hello i am your educator swati\"\n",
    "print(len(a))"
   ]
  },
  {
   "cell_type": "code",
   "execution_count": 37,
   "id": "efe67b80",
   "metadata": {},
   "outputs": [
    {
     "name": "stdout",
     "output_type": "stream",
     "text": [
      "7\n"
     ]
    }
   ],
   "source": [
    "b = \"cat dog\"\n",
    "print(len(b))"
   ]
  },
  {
   "cell_type": "code",
   "execution_count": 39,
   "id": "d67d3036",
   "metadata": {},
   "outputs": [
    {
     "name": "stdout",
     "output_type": "stream",
     "text": [
      "6\n"
     ]
    }
   ],
   "source": [
    "c = [12,3,4,7,3,6]\n",
    "print(len(c))"
   ]
  },
  {
   "cell_type": "markdown",
   "id": "d5d29283",
   "metadata": {},
   "source": [
    "practice question\n",
    "\n",
    "que 1.\n",
    "\n",
    " In a game application, the player's score is stored as a floating-point number. However, for leaderboard display, you need to convert the score to an integer.\n",
    "How would you use the int() function to convert the player's score from floating-point to integer format?\n",
    "pls solve this with code, player score = 1234.56\n"
   ]
  },
  {
   "cell_type": "code",
   "execution_count": 44,
   "id": "88227e74",
   "metadata": {},
   "outputs": [
    {
     "name": "stdout",
     "output_type": "stream",
     "text": [
      "The player score is 1234\n"
     ]
    }
   ],
   "source": [
    "player_score = 1234.56\n",
    "print(\"The player score is\", int(player_score))"
   ]
  },
  {
   "cell_type": "markdown",
   "id": "cae6405f",
   "metadata": {},
   "source": [
    "Que 2.\n",
    "\n",
    "In a customer relationship management (CRM) system for a retail company, you have a database containing customer records. How would you use the len() function to find the total number of customers in the database, allowing the company to track its customer base?\n",
    "\n",
    "customer_database = [\n",
    "    (1, 'John Doe'     , 'john@example.com'),\n",
    "    (2, 'Jane Smith'   , 'jane@example.com'),\n",
    "    (3, 'Alice Johnson', 'alice@example.com'),\n",
    "]\n",
    "\n"
   ]
  },
  {
   "cell_type": "code",
   "execution_count": 45,
   "id": "22ef19a3",
   "metadata": {},
   "outputs": [
    {
     "name": "stdout",
     "output_type": "stream",
     "text": [
      "The total number of customer in the databaes is 3\n"
     ]
    }
   ],
   "source": [
    "customer_database = [\n",
    "    (1, 'John Doe'     , 'john@example.com'),\n",
    "    (2, 'Jane Smith'   , 'jane@example.com'),\n",
    "    (3, 'Alice Johnson', 'alice@example.com'),\n",
    "]\n",
    "\n",
    "print(\"The total number of customer in the databaes is\",len(customer_database))"
   ]
  },
  {
   "cell_type": "markdown",
   "id": "82f8fe4e",
   "metadata": {},
   "source": [
    "Que 3.\n",
    "\n",
    "You're developing a financial application that calculates simple interest.\n",
    "The principal amount is 250000 Rs, the interest rate is 9.34567%, and the time period is 3 years. Calculate the Simple Interest (SI), and the final value should be an integer.\n"
   ]
  },
  {
   "cell_type": "code",
   "execution_count": 58,
   "id": "9a90108f",
   "metadata": {},
   "outputs": [
    {
     "name": "stdout",
     "output_type": "stream",
     "text": [
      "simple interest is 70092.525\n",
      "The integer value is 70092\n"
     ]
    }
   ],
   "source": [
    "p = 250000\n",
    "r = 9.34567\n",
    "t = 3\n",
    " \n",
    "SI= ((p*r*t)/100)\n",
    "print(\"simple interest is\",SI)\n",
    "\n",
    "SI =int(SI)\n",
    "print(\"The integer value is\",SI)\n"
   ]
  },
  {
   "cell_type": "code",
   "execution_count": null,
   "id": "865d9fcc",
   "metadata": {},
   "outputs": [],
   "source": []
  }
 ],
 "metadata": {
  "kernelspec": {
   "display_name": "Python 3",
   "language": "python",
   "name": "python3"
  },
  "language_info": {
   "codemirror_mode": {
    "name": "ipython",
    "version": 3
   },
   "file_extension": ".py",
   "mimetype": "text/x-python",
   "name": "python",
   "nbconvert_exporter": "python",
   "pygments_lexer": "ipython3",
   "version": "3.12.10"
  }
 },
 "nbformat": 4,
 "nbformat_minor": 5
}
