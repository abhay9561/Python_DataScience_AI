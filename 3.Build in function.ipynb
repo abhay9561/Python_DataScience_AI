{
 "cells": [
  {
   "cell_type": "markdown",
   "id": "d8f16086",
   "metadata": {},
   "source": [
    "# Build in Function"
   ]
  },
  {
   "cell_type": "markdown",
   "id": "b5261493",
   "metadata": {},
   "source": [
    "Float function"
   ]
  },
  {
   "cell_type": "code",
   "execution_count": 9,
   "id": "051342ed",
   "metadata": {},
   "outputs": [
    {
     "name": "stdout",
     "output_type": "stream",
     "text": [
      "<class 'int'>\n",
      "10.0\n",
      "<class 'float'>\n"
     ]
    }
   ],
   "source": [
    "# change int to float\n",
    "num_1 = 10\n",
    "print(type(num_1))\n",
    "\n",
    "a = float(num_1)\n",
    "print(a)\n",
    "print(type(a))"
   ]
  },
  {
   "cell_type": "code",
   "execution_count": 10,
   "id": "a217572c",
   "metadata": {},
   "outputs": [
    {
     "name": "stdout",
     "output_type": "stream",
     "text": [
      "<class 'str'>\n",
      "3.14\n",
      "<class 'float'>\n"
     ]
    }
   ],
   "source": [
    "# change str to float\n",
    "a = \"3.14\"\n",
    "print(type(a))\n",
    "b = float(a)\n",
    "print(b)\n",
    "print(type(b))"
   ]
  },
  {
   "cell_type": "markdown",
   "id": "55aa7c96",
   "metadata": {},
   "source": [
    "Int function"
   ]
  },
  {
   "cell_type": "code",
   "execution_count": 16,
   "id": "2971c161",
   "metadata": {},
   "outputs": [
    {
     "name": "stdout",
     "output_type": "stream",
     "text": [
      "<class 'float'>\n",
      "5\n",
      "<class 'int'>\n"
     ]
    }
   ],
   "source": [
    "a = 5.3444\n",
    "print(type(a))\n",
    "c = int(a)\n",
    "print(c)\n",
    "print(type(c))"
   ]
  },
  {
   "cell_type": "code",
   "execution_count": 17,
   "id": "cb4497c4",
   "metadata": {},
   "outputs": [
    {
     "name": "stdout",
     "output_type": "stream",
     "text": [
      "<class 'str'>\n",
      "22\n",
      "<class 'int'>\n"
     ]
    }
   ],
   "source": [
    "a =\"22\"\n",
    "print(type(a))\n",
    "b = int(a)\n",
    "print(b)\n",
    "print(type(b))"
   ]
  },
  {
   "cell_type": "markdown",
   "id": "57117866",
   "metadata": {},
   "source": [
    "Str function"
   ]
  },
  {
   "cell_type": "code",
   "execution_count": 18,
   "id": "d4da8194",
   "metadata": {},
   "outputs": [
    {
     "name": "stdout",
     "output_type": "stream",
     "text": [
      "<class 'int'>\n",
      "56\n",
      "<class 'str'>\n"
     ]
    }
   ],
   "source": [
    "a = 56\n",
    "print(type(a))\n",
    "b = str(a)\n",
    "print(b)\n",
    "print(type(b))"
   ]
  },
  {
   "cell_type": "code",
   "execution_count": 22,
   "id": "30bf8ea8",
   "metadata": {},
   "outputs": [
    {
     "name": "stdout",
     "output_type": "stream",
     "text": [
      "<class 'int'>\n",
      "56\n",
      "<class 'str'>\n",
      "562\n",
      "58\n"
     ]
    }
   ],
   "source": [
    "a = 56\n",
    "print(type(a))\n",
    "b = str(a)\n",
    "print(b)\n",
    "print(type(b))\n",
    "c = \"2\"\n",
    "print(b+c)\n",
    "print(a+2)"
   ]
  },
  {
   "cell_type": "code",
   "execution_count": 20,
   "id": "a228f7db",
   "metadata": {},
   "outputs": [
    {
     "ename": "TypeError",
     "evalue": "unsupported operand type(s) for +: 'int' and 'str'",
     "output_type": "error",
     "traceback": [
      "\u001b[1;31m---------------------------------------------------------------------------\u001b[0m",
      "\u001b[1;31mTypeError\u001b[0m                                 Traceback (most recent call last)",
      "Cell \u001b[1;32mIn[20], line 1\u001b[0m\n\u001b[1;32m----> 1\u001b[0m \u001b[38;5;28mprint\u001b[39m(\u001b[43ma\u001b[49m\u001b[38;5;241;43m+\u001b[39;49m\u001b[43mc\u001b[49m)\n",
      "\u001b[1;31mTypeError\u001b[0m: unsupported operand type(s) for +: 'int' and 'str'"
     ]
    }
   ],
   "source": [
    "print(a+c)"
   ]
  },
  {
   "cell_type": "code",
   "execution_count": null,
   "id": "ca2e0f0a",
   "metadata": {},
   "outputs": [],
   "source": []
  }
 ],
 "metadata": {
  "kernelspec": {
   "display_name": "Python 3",
   "language": "python",
   "name": "python3"
  },
  "language_info": {
   "codemirror_mode": {
    "name": "ipython",
    "version": 3
   },
   "file_extension": ".py",
   "mimetype": "text/x-python",
   "name": "python",
   "nbconvert_exporter": "python",
   "pygments_lexer": "ipython3",
   "version": "3.12.10"
  }
 },
 "nbformat": 4,
 "nbformat_minor": 5
}
