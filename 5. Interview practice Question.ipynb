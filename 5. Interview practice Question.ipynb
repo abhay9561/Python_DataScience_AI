{
 "cells": [
  {
   "cell_type": "code",
   "execution_count": 1,
   "id": "cbe641fc",
   "metadata": {},
   "outputs": [
    {
     "name": "stdout",
     "output_type": "stream",
     "text": [
      "It's a palindrome!\n"
     ]
    }
   ],
   "source": [
    "text = input(\"Enter a word: \")\n",
    "if text == text[::-1]:\n",
    "    print(\"It's a palindrome!\")\n",
    "else:\n",
    "    print(\"Not a palindrome.\")\n"
   ]
  },
  {
   "cell_type": "code",
   "execution_count": 2,
   "id": "10af1965",
   "metadata": {},
   "outputs": [
    {
     "name": "stdout",
     "output_type": "stream",
     "text": [
      "Result: 10.0\n"
     ]
    }
   ],
   "source": [
    "a = float(input(\"Enter first number: \"))\n",
    "b = float(input(\"Enter second number: \"))\n",
    "op = input(\"Enter operator (+, -, *, /): \")\n",
    "\n",
    "if op == '+':\n",
    "    print(\"Result:\", a + b)\n",
    "elif op == '-':\n",
    "    print(\"Result:\", a - b)\n",
    "elif op == '*':\n",
    "    print(\"Result:\", a * b)\n",
    "elif op == '/':\n",
    "    print(\"Result:\", a / b)\n",
    "else:\n",
    "    print(\"Invalid operator.\")\n"
   ]
  },
  {
   "cell_type": "code",
   "execution_count": 3,
   "id": "2142e42d",
   "metadata": {},
   "outputs": [
    {
     "name": "stdout",
     "output_type": "stream",
     "text": [
      "Odd number.\n"
     ]
    }
   ],
   "source": [
    "num = int(input(\"Enter a number: \"))\n",
    "if num % 2 == 0:\n",
    "    print(\"Even number.\")\n",
    "else:\n",
    "    print(\"Odd number.\")\n"
   ]
  },
  {
   "cell_type": "code",
   "execution_count": 4,
   "id": "2e4eb56b",
   "metadata": {},
   "outputs": [
    {
     "name": "stdout",
     "output_type": "stream",
     "text": [
      "Factorial: 24\n"
     ]
    }
   ],
   "source": [
    "num = int(input(\"Enter a number: \"))\n",
    "fact = 1\n",
    "for i in range(1, num+1):\n",
    "    fact *= i\n",
    "print(\"Factorial:\", fact)\n"
   ]
  },
  {
   "cell_type": "code",
   "execution_count": 5,
   "id": "7470971f",
   "metadata": {},
   "outputs": [
    {
     "name": "stdout",
     "output_type": "stream",
     "text": [
      "Sorted list: [1, 3, 10, 23, 45]\n"
     ]
    }
   ],
   "source": [
    "numbers = [10, 3, 45, 23, 1]\n",
    "numbers.sort()\n",
    "print(\"Sorted list:\", numbers)\n"
   ]
  },
  {
   "cell_type": "code",
   "execution_count": 6,
   "id": "f846f166",
   "metadata": {},
   "outputs": [
    {
     "name": "stdout",
     "output_type": "stream",
     "text": [
      "0 1 1 2 3 5 8 "
     ]
    }
   ],
   "source": [
    "n = int(input(\"How many terms? \"))\n",
    "a, b = 0, 1\n",
    "for _ in range(n):\n",
    "    print(a, end=\" \")\n",
    "    a, b = b, a + b\n"
   ]
  },
  {
   "cell_type": "code",
   "execution_count": 7,
   "id": "5936b313",
   "metadata": {},
   "outputs": [
    {
     "name": "stdout",
     "output_type": "stream",
     "text": [
      "Wrong! The number was 9\n"
     ]
    }
   ],
   "source": [
    "import random\n",
    "num = random.randint(1, 10)\n",
    "guess = int(input(\"Guess a number between 1 and 10: \"))\n",
    "if guess == num:\n",
    "    print(\"Correct!\")\n",
    "else:\n",
    "    print(\"Wrong! The number was\", num)\n"
   ]
  },
  {
   "cell_type": "code",
   "execution_count": null,
   "id": "38154cb9",
   "metadata": {},
   "outputs": [
    {
     "name": "stdout",
     "output_type": "stream",
     "text": [
      "\n",
      "--- TO-DO LIST ---\n",
      "1. Add Task\n",
      "2. View Tasks\n",
      "3. Remove Task\n",
      "4. Exit\n",
      "Invalid choice. Try again.\n",
      "\n",
      "--- TO-DO LIST ---\n",
      "1. Add Task\n",
      "2. View Tasks\n",
      "3. Remove Task\n",
      "4. Exit\n",
      "Invalid choice. Try again.\n",
      "\n",
      "--- TO-DO LIST ---\n",
      "1. Add Task\n",
      "2. View Tasks\n",
      "3. Remove Task\n",
      "4. Exit\n"
     ]
    }
   ],
   "source": [
    "tasks = []\n",
    "\n",
    "def show_menu():\n",
    "    print(\"\\n--- TO-DO LIST ---\")\n",
    "    print(\"1. Add Task\")\n",
    "    print(\"2. View Tasks\")\n",
    "    print(\"3. Remove Task\")\n",
    "    print(\"4. Exit\")\n",
    "\n",
    "def add_task():\n",
    "    task = input(\"Enter task: \")\n",
    "    tasks.append(task)\n",
    "    print(\"Task added.\")\n",
    "\n",
    "def view_tasks():\n",
    "    if not tasks:\n",
    "        print(\"No tasks yet!\")\n",
    "    else:\n",
    "        for i, task in enumerate(tasks, start=1):\n",
    "            print(f\"{i}. {task}\")\n",
    "\n",
    "def remove_task():\n",
    "    view_tasks()\n",
    "    num = int(input(\"Enter task number to remove: \"))\n",
    "    if 0 < num <= len(tasks):\n",
    "        removed = tasks.pop(num - 1)\n",
    "        print(f\"Removed: {removed}\")\n",
    "    else:\n",
    "        print(\"Invalid task number.\")\n",
    "\n",
    "while True:\n",
    "    show_menu()\n",
    "    choice = input(\"Choose an option: \")\n",
    "\n",
    "    if choice == '1':\n",
    "        add_task()\n",
    "    elif choice == '2':\n",
    "        view_tasks()\n",
    "    elif choice == '3':\n",
    "        remove_task()\n",
    "    elif choice == '4':\n",
    "        print(\"Exiting... Bye!\")\n",
    "        break\n",
    "    else:\n",
    "        print(\"Invalid choice. Try again.\")\n"
   ]
  },
  {
   "cell_type": "code",
   "execution_count": 1,
   "id": "e19ce8ce",
   "metadata": {},
   "outputs": [
    {
     "name": "stdout",
     "output_type": "stream",
     "text": [
      "You rolled: 5\n",
      "Thanks for playing!\n"
     ]
    }
   ],
   "source": [
    "import random\n",
    "\n",
    "def roll_dice():\n",
    "    return random.randint(1, 6)\n",
    "\n",
    "while True:\n",
    "    input(\"Press Enter to roll the dice...\")\n",
    "    print(f\"You rolled: {roll_dice()}\")\n",
    "    again = input(\"Roll again? (y/n): \")\n",
    "    if again.lower() != 'y':\n",
    "        print(\"Thanks for playing!\")\n",
    "        break\n"
   ]
  },
  {
   "cell_type": "code",
   "execution_count": 2,
   "id": "b3479289",
   "metadata": {},
   "outputs": [
    {
     "name": "stdout",
     "output_type": "stream",
     "text": [
      "\n",
      "1. Add Contact\n",
      "2. View Contacts\n",
      "3. Exit\n",
      "Invalid option.\n",
      "\n",
      "1. Add Contact\n",
      "2. View Contacts\n",
      "3. Exit\n",
      "Contact saved.\n",
      "\n",
      "1. Add Contact\n",
      "2. View Contacts\n",
      "3. Exit\n",
      "Goodbye!\n"
     ]
    }
   ],
   "source": [
    "filename = \"contacts.txt\"\n",
    "\n",
    "def add_contact():\n",
    "    name = input(\"Enter name: \")\n",
    "    phone = input(\"Enter phone: \")\n",
    "    with open(filename, \"a\") as f:\n",
    "        f.write(f\"{name},{phone}\\n\")\n",
    "    print(\"Contact saved.\")\n",
    "\n",
    "def view_contacts():\n",
    "    try:\n",
    "        with open(filename, \"r\") as f:\n",
    "            contacts = f.readlines()\n",
    "            print(\"\\n--- Contact List ---\")\n",
    "            for contact in contacts:\n",
    "                name, phone = contact.strip().split(',')\n",
    "                print(f\"Name: {name}, Phone: {phone}\")\n",
    "    except FileNotFoundError:\n",
    "        print(\"No contacts found.\")\n",
    "\n",
    "while True:\n",
    "    print(\"\\n1. Add Contact\")\n",
    "    print(\"2. View Contacts\")\n",
    "    print(\"3. Exit\")\n",
    "    choice = input(\"Choose option: \")\n",
    "\n",
    "    if choice == '1':\n",
    "        add_contact()\n",
    "    elif choice == '2':\n",
    "        view_contacts()\n",
    "    elif choice == '3':\n",
    "        print(\"Goodbye!\")\n",
    "        break\n",
    "    else:\n",
    "        print(\"Invalid option.\")\n"
   ]
  },
  {
   "cell_type": "code",
   "execution_count": 3,
   "id": "1900c21e",
   "metadata": {},
   "outputs": [
    {
     "name": "stdout",
     "output_type": "stream",
     "text": [
      "--- Welcome to the Quiz ---\n",
      "\n",
      "What is the capital of India?\n",
      "Wrong! The correct answer is Delhi\n",
      "\n",
      "Who developed Python?\n",
      "Wrong! The correct answer is Guido van Rossum\n",
      "\n",
      "Which planet is known as the Red Planet?\n",
      "Wrong! The correct answer is Mars\n",
      "\n",
      "Which language is used for web apps?\n",
      "Wrong! The correct answer is JavaScript\n",
      "\n",
      "Your final score: 0/4\n"
     ]
    }
   ],
   "source": [
    "questions = {\n",
    "    \"What is the capital of India?\": \"Delhi\",\n",
    "    \"Who developed Python?\": \"Guido van Rossum\",\n",
    "    \"Which planet is known as the Red Planet?\": \"Mars\",\n",
    "    \"Which language is used for web apps?\": \"JavaScript\"\n",
    "}\n",
    "\n",
    "score = 0\n",
    "print(\"--- Welcome to the Quiz ---\")\n",
    "for q, a in questions.items():\n",
    "    print(\"\\n\" + q)\n",
    "    user_answer = input(\"Your answer: \")\n",
    "    if user_answer.strip().lower() == a.lower():\n",
    "        print(\"Correct!\")\n",
    "        score += 1\n",
    "    else:\n",
    "        print(f\"Wrong! The correct answer is {a}\")\n",
    "\n",
    "print(f\"\\nYour final score: {score}/{len(questions)}\")\n"
   ]
  },
  {
   "cell_type": "code",
   "execution_count": null,
   "id": "1bb7ec3c",
   "metadata": {},
   "outputs": [
    {
     "name": "stdout",
     "output_type": "stream",
     "text": [
      "\n",
      "--- Student Gradebook ---\n",
      "1. Add Student\n",
      "2. View Students\n",
      "3. Exit\n",
      "Invalid option.\n",
      "\n",
      "--- Student Gradebook ---\n",
      "1. Add Student\n",
      "2. View Students\n",
      "3. Exit\n",
      "Invalid option.\n",
      "\n",
      "--- Student Gradebook ---\n",
      "1. Add Student\n",
      "2. View Students\n",
      "3. Exit\n",
      "Invalid option.\n",
      "\n",
      "--- Student Gradebook ---\n",
      "1. Add Student\n",
      "2. View Students\n",
      "3. Exit\n",
      "Invalid option.\n",
      "\n",
      "--- Student Gradebook ---\n",
      "1. Add Student\n",
      "2. View Students\n",
      "3. Exit\n",
      "Invalid option.\n",
      "\n",
      "--- Student Gradebook ---\n",
      "1. Add Student\n",
      "2. View Students\n",
      "3. Exit\n",
      "Invalid option.\n",
      "\n",
      "--- Student Gradebook ---\n",
      "1. Add Student\n",
      "2. View Students\n",
      "3. Exit\n"
     ]
    }
   ],
   "source": [
    "students = {}\n",
    "\n",
    "def add_student():\n",
    "    name = input(\"Student Name: \")\n",
    "    marks = []\n",
    "    for i in range(3):\n",
    "        mark = float(input(f\"Enter mark for subject {i+1}: \"))\n",
    "        marks.append(mark)\n",
    "    students[name] = marks\n",
    "    print(\"Student added.\")\n",
    "\n",
    "def view_students():\n",
    "    for name, marks in students.items():\n",
    "        avg = sum(marks) / len(marks)\n",
    "        print(f\"{name} => Marks: {marks}, Average: {avg:.2f}\")\n",
    "\n",
    "while True:\n",
    "    print(\"\\n--- Student Gradebook ---\")\n",
    "    print(\"1. Add Student\")\n",
    "    print(\"2. View Students\")\n",
    "    print(\"3. Exit\")\n",
    "    choice = input(\"Choose: \")\n",
    "\n",
    "    if choice == '1':\n",
    "        add_student()\n",
    "    elif choice == '2':\n",
    "        view_students()\n",
    "    elif choice == '3':\n",
    "        break\n",
    "    else:\n",
    "        print(\"Invalid option.\")\n"
   ]
  },
  {
   "cell_type": "code",
   "execution_count": null,
   "id": "9f447db2",
   "metadata": {},
   "outputs": [],
   "source": []
  }
 ],
 "metadata": {
  "kernelspec": {
   "display_name": "Python 3",
   "language": "python",
   "name": "python3"
  },
  "language_info": {
   "codemirror_mode": {
    "name": "ipython",
    "version": 3
   },
   "file_extension": ".py",
   "mimetype": "text/x-python",
   "name": "python",
   "nbconvert_exporter": "python",
   "pygments_lexer": "ipython3",
   "version": "3.12.10"
  }
 },
 "nbformat": 4,
 "nbformat_minor": 5
}
