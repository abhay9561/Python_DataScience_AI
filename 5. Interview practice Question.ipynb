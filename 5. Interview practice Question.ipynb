{
 "cells": [
  {
   "cell_type": "markdown",
   "id": "11cb0d2c",
   "metadata": {},
   "source": [
    "## Interview  Question"
   ]
  },
  {
   "cell_type": "markdown",
   "id": "e80f0517",
   "metadata": {},
   "source": [
    "\n",
    "Question 1\n",
    "\n",
    "You are developing a program for a math competition where participants need to solve mathematical expressions and provide the result.\n",
    "You want to use Python to automate the evaluation process.\n",
    "Here’s how you could approach it:\n",
    "\n",
    "1. Take input from the participant to enter a mathematical expression\n",
    "\n",
    "2. evaluate the expression entered by the participant and obtain the result.\n",
    "\n",
    "3. Display the result to the participant."
   ]
  },
  {
   "cell_type": "code",
   "execution_count": 8,
   "id": "cbe641fc",
   "metadata": {},
   "outputs": [
    {
     "name": "stdout",
     "output_type": "stream",
     "text": [
      "The result of the expression is  32.8\n",
      "Thank you for participation in maths compitation\n"
     ]
    }
   ],
   "source": [
    "expression = input(\"Enter the mathematical expression\")\n",
    "result = eval(expression)\n",
    "print(\"The result of the expression is \", result)\n",
    "print(\"Thank you for participation in maths compitation\")"
   ]
  },
  {
   "cell_type": "markdown",
   "id": "44028148",
   "metadata": {},
   "source": [
    "Question 2.\n",
    "\n",
    "Suppose you're analyzing a dataset containing information about house prices in a city. Each record includes details such as the house size (in square feet), number of bedrooms, and price. You want to perform various calculations and manipulations on this dataset using Python.\n",
    "Answer the following questions:\n",
    "\n",
    "1. Ask the user 1 & 2 to enter house size, number of rooms they want and . Check the data type user has entered\n",
    "\n",
    "2. Calculate the price of house , if per sq feet is Rs 5000.\n",
    "\n",
    "3. Threshold price is 75 lakh Rs, which user is paying the price above threshold price.\n",
    "\n"
   ]
  },
  {
   "cell_type": "code",
   "execution_count": 17,
   "id": "10af1965",
   "metadata": {},
   "outputs": [
    {
     "name": "stdout",
     "output_type": "stream",
     "text": [
      "The price of house for user 1 is 7500000.0\n",
      "The price of house for user 2 is 15000000.0\n",
      "user 1 is paying above threshold {True}\n",
      "user2 is paying above threshold {True}\n"
     ]
    }
   ],
   "source": [
    "house_size_1 = float(input(\"User 1 Enter the size of house\"))\n",
    "bedrooms_1 = int(input(\"User 1 Enter the number of bedrooms\"))\n",
    "price_1 = float(input(\"User 1 Enter the budgge\"))\n",
    "\n",
    "house_size_2 = float(input(\"User 2 Enter the sixe of house\"))\n",
    "bedrooms_2 = int(input(\"User 2 Enter the number of bedrooms\"))\n",
    "price_2 = float(input(\"User 2 Enter the budgge\"))\n",
    "\n",
    "house_price_1 = house_size_1* 5000\n",
    "print(\"The price of house for user 1 is\",house_price_1)\n",
    "\n",
    "house_price_2 = house_size_2* 5000\n",
    "print(\"The price of house for user 2 is\",house_price_2)\n",
    "\n",
    "threshold_price = 7500000\n",
    "user1_threshold = house_price_1 >= threshold_price\n",
    "user2_threshold = house_price_2 >= threshold_price\n",
    "\n",
    "print(f\"user 1 is paying above threshold\",{user1_threshold})\n",
    "print(f\"user2 is paying above threshold\",{user2_threshold})"
   ]
  },
  {
   "cell_type": "code",
   "execution_count": 18,
   "id": "2142e42d",
   "metadata": {},
   "outputs": [
    {
     "name": "stdout",
     "output_type": "stream",
     "text": [
      "The price of house for user 1 is 15000000.0\n",
      "The price of house for user 2 is 5000000.0\n",
      "user 1 is paying above threshold {True}\n",
      "user2 is paying above threshold {False}\n"
     ]
    }
   ],
   "source": [
    "house_size_1 = float(input(\"User 1 Enter the size of house\"))\n",
    "bedrooms_1 = int(input(\"User 1 Enter the number of bedrooms\"))\n",
    "price_1 = float(input(\"User 1 Enter the budgge\"))\n",
    "\n",
    "house_size_2 = float(input(\"User 2 Enter the sixe of house\"))\n",
    "bedrooms_2 = int(input(\"User 2 Enter the number of bedrooms\"))\n",
    "price_2 = float(input(\"User 2 Enter the budgge\"))\n",
    "\n",
    "house_price_1 = house_size_1* 5000\n",
    "print(\"The price of house for user 1 is\",house_price_1)\n",
    "\n",
    "house_price_2 = house_size_2* 5000\n",
    "print(\"The price of house for user 2 is\",house_price_2)\n",
    "\n",
    "threshold_price = 7500000\n",
    "user1_threshold = house_price_1 >= threshold_price\n",
    "user2_threshold = house_price_2 >= threshold_price\n",
    "\n",
    "print(f\"user 1 is paying above threshold\",user1_threshold)\n",
    "print(f\"user2 is paying above threshold\",user2_threshold)\n"
   ]
  },
  {
   "cell_type": "markdown",
   "id": "c5a4d15a",
   "metadata": {},
   "source": [
    "Question 3.\n",
    "\n",
    "You are working on a project to analyze stock market data.\n",
    "Create variables to store the stock symbol, current price, and percentage change in price. Then, calculate the new price after a 10% increase using arithmetic operators. Finally, prompt the user to enter their budget using the input() function, convert it to a float using the float() function, and compare it with the new price"
   ]
  },
  {
   "cell_type": "code",
   "execution_count": 25,
   "id": "2e4eb56b",
   "metadata": {},
   "outputs": [
    {
     "name": "stdout",
     "output_type": "stream",
     "text": [
      "The new price of the stock is 110.00000000000001\n",
      "user budget greater than new price True\n"
     ]
    }
   ],
   "source": [
    "stock_symbol = \"xyz\"\n",
    "current_price = 100\n",
    "percent_change =10\n",
    "\n",
    "new_price = current_price*(1+percent_change/100)\n",
    "\n",
    "print(\"The new price of the stock is\",new_price )\n",
    "user_budget = int(input(\"Enter you budget\"))\n",
    "a = user_budget >= new_price\n",
    "print(\"user budget greater than new price\", a)"
   ]
  },
  {
   "cell_type": "code",
   "execution_count": 26,
   "id": "7470971f",
   "metadata": {},
   "outputs": [
    {
     "name": "stdout",
     "output_type": "stream",
     "text": [
      "The new price of the stock is 110.00000000000001\n",
      "user budget greater than new price False\n"
     ]
    }
   ],
   "source": [
    "stock_symbol = \"xyz\"\n",
    "current_price = 100\n",
    "percent_change =10\n",
    "\n",
    "new_price = current_price*(1+percent_change/100)\n",
    "\n",
    "print(\"The new price of the stock is\",new_price )\n",
    "user_budget = int(input(\"Enter you budget\"))\n",
    "a = user_budget >= new_price\n",
    "print(\"user budget greater than new price\", a)\n"
   ]
  },
  {
   "cell_type": "markdown",
   "id": "2e984ddd",
   "metadata": {},
   "source": [
    "Question 4.\n",
    "\n",
    "You are working on a project to analyze weather data.\n",
    "Create variables to store the current temperature,\n",
    "the minimum temperature recorded, and the maximum temperature recorded.\n",
    "Determine whether the current temperature is within\n",
    "the range of the minimum and maximum temperatures\n",
    "recorded using logical operators."
   ]
  },
  {
   "cell_type": "code",
   "execution_count": 29,
   "id": "f846f166",
   "metadata": {},
   "outputs": [
    {
     "name": "stdout",
     "output_type": "stream",
     "text": [
      "The temperature check is in range True\n"
     ]
    }
   ],
   "source": [
    "current_temperature = int(input(\"enter the temperature\"))\n",
    "minimum_temperature = 25\n",
    "maximum_temperature =  35\n",
    "\n",
    "temperature_check = minimum_temperature <= current_temperature <= maximum_temperature \n",
    "print(\"The temperature check is in range\", temperature_check)"
   ]
  },
  {
   "cell_type": "code",
   "execution_count": 31,
   "id": "5936b313",
   "metadata": {},
   "outputs": [
    {
     "name": "stdout",
     "output_type": "stream",
     "text": [
      "current temp is in range of min and max:= False\n"
     ]
    }
   ],
   "source": [
    "current_temp = float(input(\"enter current temp:-\"))\n",
    "min_temp = 20\n",
    "max_temp = 40\n",
    "# temp_range = min_temp <= current_temp <=max_temp\n",
    "a = (current_temp<=max_temp) and  (current_temp>=min_temp)\n",
    "print(\"current temp is in range of min and max:=\",a)\n",
    "# print(\"current temp is greater than min temp and less than max temp:-\",temp_range,\"which is :-\",current_temp)\n",
    "\n"
   ]
  },
  {
   "cell_type": "code",
   "execution_count": null,
   "id": "38154cb9",
   "metadata": {},
   "outputs": [
    {
     "name": "stdout",
     "output_type": "stream",
     "text": [
      "\n",
      "--- TO-DO LIST ---\n",
      "1. Add Task\n",
      "2. View Tasks\n",
      "3. Remove Task\n",
      "4. Exit\n",
      "Invalid choice. Try again.\n",
      "\n",
      "--- TO-DO LIST ---\n",
      "1. Add Task\n",
      "2. View Tasks\n",
      "3. Remove Task\n",
      "4. Exit\n",
      "Invalid choice. Try again.\n",
      "\n",
      "--- TO-DO LIST ---\n",
      "1. Add Task\n",
      "2. View Tasks\n",
      "3. Remove Task\n",
      "4. Exit\n"
     ]
    }
   ],
   "source": []
  },
  {
   "cell_type": "code",
   "execution_count": 1,
   "id": "e19ce8ce",
   "metadata": {},
   "outputs": [
    {
     "name": "stdout",
     "output_type": "stream",
     "text": [
      "You rolled: 5\n",
      "Thanks for playing!\n"
     ]
    }
   ],
   "source": [
    "import random\n",
    "\n",
    "def roll_dice():\n",
    "    return random.randint(1, 6)\n",
    "\n",
    "while True:\n",
    "    input(\"Press Enter to roll the dice...\")\n",
    "    print(f\"You rolled: {roll_dice()}\")\n",
    "    again = input(\"Roll again? (y/n): \")\n",
    "    if again.lower() != 'y':\n",
    "        print(\"Thanks for playing!\")\n",
    "        break\n"
   ]
  },
  {
   "cell_type": "code",
   "execution_count": 2,
   "id": "b3479289",
   "metadata": {},
   "outputs": [
    {
     "name": "stdout",
     "output_type": "stream",
     "text": [
      "\n",
      "1. Add Contact\n",
      "2. View Contacts\n",
      "3. Exit\n",
      "Invalid option.\n",
      "\n",
      "1. Add Contact\n",
      "2. View Contacts\n",
      "3. Exit\n",
      "Contact saved.\n",
      "\n",
      "1. Add Contact\n",
      "2. View Contacts\n",
      "3. Exit\n",
      "Goodbye!\n"
     ]
    }
   ],
   "source": [
    "filename = \"contacts.txt\"\n",
    "\n",
    "def add_contact():\n",
    "    name = input(\"Enter name: \")\n",
    "    phone = input(\"Enter phone: \")\n",
    "    with open(filename, \"a\") as f:\n",
    "        f.write(f\"{name},{phone}\\n\")\n",
    "    print(\"Contact saved.\")\n",
    "\n",
    "def view_contacts():\n",
    "    try:\n",
    "        with open(filename, \"r\") as f:\n",
    "            contacts = f.readlines()\n",
    "            print(\"\\n--- Contact List ---\")\n",
    "            for contact in contacts:\n",
    "                name, phone = contact.strip().split(',')\n",
    "                print(f\"Name: {name}, Phone: {phone}\")\n",
    "    except FileNotFoundError:\n",
    "        print(\"No contacts found.\")\n",
    "\n",
    "while True:\n",
    "    print(\"\\n1. Add Contact\")\n",
    "    print(\"2. View Contacts\")\n",
    "    print(\"3. Exit\")\n",
    "    choice = input(\"Choose option: \")\n",
    "\n",
    "    if choice == '1':\n",
    "        add_contact()\n",
    "    elif choice == '2':\n",
    "        view_contacts()\n",
    "    elif choice == '3':\n",
    "        print(\"Goodbye!\")\n",
    "        break\n",
    "    else:\n",
    "        print(\"Invalid option.\")\n"
   ]
  },
  {
   "cell_type": "code",
   "execution_count": 3,
   "id": "1900c21e",
   "metadata": {},
   "outputs": [
    {
     "name": "stdout",
     "output_type": "stream",
     "text": [
      "--- Welcome to the Quiz ---\n",
      "\n",
      "What is the capital of India?\n",
      "Wrong! The correct answer is Delhi\n",
      "\n",
      "Who developed Python?\n",
      "Wrong! The correct answer is Guido van Rossum\n",
      "\n",
      "Which planet is known as the Red Planet?\n",
      "Wrong! The correct answer is Mars\n",
      "\n",
      "Which language is used for web apps?\n",
      "Wrong! The correct answer is JavaScript\n",
      "\n",
      "Your final score: 0/4\n"
     ]
    }
   ],
   "source": [
    "questions = {\n",
    "    \"What is the capital of India?\": \"Delhi\",\n",
    "    \"Who developed Python?\": \"Guido van Rossum\",\n",
    "    \"Which planet is known as the Red Planet?\": \"Mars\",\n",
    "    \"Which language is used for web apps?\": \"JavaScript\"\n",
    "}\n",
    "\n",
    "score = 0\n",
    "print(\"--- Welcome to the Quiz ---\")\n",
    "for q, a in questions.items():\n",
    "    print(\"\\n\" + q)\n",
    "    user_answer = input(\"Your answer: \")\n",
    "    if user_answer.strip().lower() == a.lower():\n",
    "        print(\"Correct!\")\n",
    "        score += 1\n",
    "    else:\n",
    "        print(f\"Wrong! The correct answer is {a}\")\n",
    "\n",
    "print(f\"\\nYour final score: {score}/{len(questions)}\")\n"
   ]
  },
  {
   "cell_type": "code",
   "execution_count": null,
   "id": "1bb7ec3c",
   "metadata": {},
   "outputs": [
    {
     "name": "stdout",
     "output_type": "stream",
     "text": [
      "\n",
      "--- Student Gradebook ---\n",
      "1. Add Student\n",
      "2. View Students\n",
      "3. Exit\n",
      "Invalid option.\n",
      "\n",
      "--- Student Gradebook ---\n",
      "1. Add Student\n",
      "2. View Students\n",
      "3. Exit\n",
      "Invalid option.\n",
      "\n",
      "--- Student Gradebook ---\n",
      "1. Add Student\n",
      "2. View Students\n",
      "3. Exit\n",
      "Invalid option.\n",
      "\n",
      "--- Student Gradebook ---\n",
      "1. Add Student\n",
      "2. View Students\n",
      "3. Exit\n",
      "Invalid option.\n",
      "\n",
      "--- Student Gradebook ---\n",
      "1. Add Student\n",
      "2. View Students\n",
      "3. Exit\n",
      "Invalid option.\n",
      "\n",
      "--- Student Gradebook ---\n",
      "1. Add Student\n",
      "2. View Students\n",
      "3. Exit\n",
      "Invalid option.\n",
      "\n",
      "--- Student Gradebook ---\n",
      "1. Add Student\n",
      "2. View Students\n",
      "3. Exit\n"
     ]
    }
   ],
   "source": [
    "students = {}\n",
    "\n",
    "def add_student():\n",
    "    name = input(\"Student Name: \")\n",
    "    marks = []\n",
    "    for i in range(3):\n",
    "        mark = float(input(f\"Enter mark for subject {i+1}: \"))\n",
    "        marks.append(mark)\n",
    "    students[name] = marks\n",
    "    print(\"Student added.\")\n",
    "\n",
    "def view_students():\n",
    "    for name, marks in students.items():\n",
    "        avg = sum(marks) / len(marks)\n",
    "        print(f\"{name} => Marks: {marks}, Average: {avg:.2f}\")\n",
    "\n",
    "while True:\n",
    "    print(\"\\n--- Student Gradebook ---\")\n",
    "    print(\"1. Add Student\")\n",
    "    print(\"2. View Students\")\n",
    "    print(\"3. Exit\")\n",
    "    choice = input(\"Choose: \")\n",
    "\n",
    "    if choice == '1':\n",
    "        add_student()\n",
    "    elif choice == '2':\n",
    "        view_students()\n",
    "    elif choice == '3':\n",
    "        break\n",
    "    else:\n",
    "        print(\"Invalid option.\")\n"
   ]
  },
  {
   "cell_type": "code",
   "execution_count": null,
   "id": "9f447db2",
   "metadata": {},
   "outputs": [],
   "source": [
    "questions = {\n",
    "    \"What is the capital of India?\": \"Delhi\",\n",
    "    \"Who developed Python?\": \"Guido van Rossum\",\n",
    "    \"Which planet is known as the Red Planet?\": \"Mars\",\n",
    "    \"Which language is used for web apps?\": \"JavaScript\"\n",
    "}\n",
    "\n",
    "score = 0\n",
    "print(\"--- Welcome to the Quiz ---\")\n",
    "for q, a in questions.items():\n",
    "    print(\"\\n\" + q)\n",
    "    user_answer = input(\"Your answer: \")\n",
    "    if user_answer.strip().lower() == a.lower():\n",
    "        print(\"Correct!\")\n",
    "        score += 1\n",
    "    else:\n",
    "        print(f\"Wrong! The correct answer is {a}\")\n",
    "\n",
    "print(f\"\\nYour final score: {score}/{len(questions)}\")\n"
   ]
  },
  {
   "cell_type": "code",
   "execution_count": null,
   "id": "3d916da9",
   "metadata": {},
   "outputs": [],
   "source": [
    "students = {}\n",
    "\n",
    "def add_student():\n",
    "    name = input(\"Student Name: \")\n",
    "    marks = []\n",
    "    for i in range(3):\n",
    "        mark = float(input(f\"Enter mark for subject {i+1}: \"))\n",
    "        marks.append(mark)\n",
    "    students[name] = marks\n",
    "    print(\"Student added.\")\n",
    "\n",
    "def view_students():\n",
    "    for name, marks in students.items():\n",
    "        avg = sum(marks) / len(marks)\n",
    "        print(f\"{name} => Marks: {marks}, Average: {avg:.2f}\")\n",
    "\n",
    "while True:\n",
    "    print(\"\\n--- Student Gradebook ---\")\n",
    "    print(\"1. Add Student\")\n",
    "    print(\"2. View Students\")\n",
    "    print(\"3. Exit\")\n",
    "    choice = input(\"Choose: \")\n",
    "\n",
    "    if choice == '1':\n",
    "        add_student()\n",
    "    elif choice == '2':\n",
    "        view_students()\n",
    "    elif choice == '3':\n",
    "        break\n",
    "    else:\n",
    "        print(\"Invalid option.\")\n"
   ]
  },
  {
   "cell_type": "code",
   "execution_count": null,
   "id": "a0190d85",
   "metadata": {},
   "outputs": [],
   "source": []
  }
 ],
 "metadata": {
  "kernelspec": {
   "display_name": "Python 3",
   "language": "python",
   "name": "python3"
  },
  "language_info": {
   "codemirror_mode": {
    "name": "ipython",
    "version": 3
   },
   "file_extension": ".py",
   "mimetype": "text/x-python",
   "name": "python",
   "nbconvert_exporter": "python",
   "pygments_lexer": "ipython3",
   "version": "3.12.10"
  }
 },
 "nbformat": 4,
 "nbformat_minor": 5
}
