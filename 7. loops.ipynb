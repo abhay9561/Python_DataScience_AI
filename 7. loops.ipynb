{
 "cells": [
  {
   "cell_type": "markdown",
   "id": "476f8e4a",
   "metadata": {},
   "source": [
    "## Loops in python"
   ]
  },
  {
   "cell_type": "markdown",
   "id": "2b5c0c67",
   "metadata": {},
   "source": [
    "## while loops"
   ]
  },
  {
   "cell_type": "code",
   "execution_count": 2,
   "id": "964bc5b2",
   "metadata": {},
   "outputs": [
    {
     "name": "stdout",
     "output_type": "stream",
     "text": [
      "1\n",
      "2\n",
      "3\n",
      "4\n",
      "5\n"
     ]
    }
   ],
   "source": [
    "count = 1\n",
    "\n",
    "while count<=5:\n",
    "    print(count)\n",
    "    count = count + 1\n",
    "\n",
    "\n",
    "\n"
   ]
  },
  {
   "cell_type": "markdown",
   "id": "09b90c9b",
   "metadata": {},
   "source": [
    "Write a python program to print all the even number between 1 and 50  using while loops"
   ]
  },
  {
   "cell_type": "code",
   "execution_count": 10,
   "id": "d27f54a4",
   "metadata": {},
   "outputs": [
    {
     "name": "stdout",
     "output_type": "stream",
     "text": [
      "2\n",
      "4\n",
      "6\n",
      "8\n",
      "10\n",
      "12\n",
      "14\n",
      "16\n",
      "18\n",
      "20\n",
      "22\n",
      "24\n",
      "26\n",
      "28\n",
      "30\n",
      "32\n",
      "34\n",
      "36\n",
      "38\n",
      "40\n",
      "42\n",
      "44\n",
      "46\n",
      "48\n",
      "50\n"
     ]
    }
   ],
   "source": [
    "num = 1\n",
    "\n",
    "while num<=50:\n",
    "    if num%2==0:\n",
    "        print(num)\n",
    "    num = num +1"
   ]
  },
  {
   "cell_type": "code",
   "execution_count": null,
   "id": "4d8d4385",
   "metadata": {},
   "outputs": [],
   "source": []
  }
 ],
 "metadata": {
  "kernelspec": {
   "display_name": "Python 3",
   "language": "python",
   "name": "python3"
  },
  "language_info": {
   "codemirror_mode": {
    "name": "ipython",
    "version": 3
   },
   "file_extension": ".py",
   "mimetype": "text/x-python",
   "name": "python",
   "nbconvert_exporter": "python",
   "pygments_lexer": "ipython3",
   "version": "3.12.10"
  }
 },
 "nbformat": 4,
 "nbformat_minor": 5
}
