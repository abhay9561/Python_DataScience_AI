{
 "cells": [
  {
   "cell_type": "markdown",
   "id": "7815a71d",
   "metadata": {},
   "source": [
    "#  Variable and Data Type in Python \n"
   ]
  },
  {
   "cell_type": "markdown",
   "id": "b2c56760",
   "metadata": {},
   "source": [
    "Creating variable"
   ]
  },
  {
   "cell_type": "code",
   "execution_count": 14,
   "id": "7f8af5b9",
   "metadata": {},
   "outputs": [
    {
     "name": "stdout",
     "output_type": "stream",
     "text": [
      "5\n"
     ]
    }
   ],
   "source": [
    "x = 5\n",
    "print(x)"
   ]
  },
  {
   "cell_type": "code",
   "execution_count": 15,
   "id": "fa3527f2",
   "metadata": {},
   "outputs": [
    {
     "name": "stdout",
     "output_type": "stream",
     "text": [
      "10 2.5 Abhay\n"
     ]
    }
   ],
   "source": [
    "a = 10\n",
    "b = 2.5\n",
    "c = 'Abhay'\n",
    "print(a,b,c)"
   ]
  },
  {
   "cell_type": "code",
   "execution_count": 16,
   "id": "3011a46b",
   "metadata": {},
   "outputs": [
    {
     "name": "stdout",
     "output_type": "stream",
     "text": [
      "we are learning machine learning\n"
     ]
    }
   ],
   "source": [
    "y = \"we are learning machine learning\"\n",
    "print(y)"
   ]
  },
  {
   "cell_type": "code",
   "execution_count": 17,
   "id": "b5bc7249",
   "metadata": {},
   "outputs": [
    {
     "name": "stdout",
     "output_type": "stream",
     "text": [
      "Variable   Type     Data/Info\n",
      "-----------------------------\n",
      "a          int      10\n",
      "b          float    2.5\n",
      "c          str      Abhay\n",
      "x          int      5\n",
      "y          str      we are learning machine learning\n"
     ]
    }
   ],
   "source": [
    "# its check how many variable we have  still now\n",
    "%whos "
   ]
  },
  {
   "cell_type": "markdown",
   "id": "581eada1",
   "metadata": {},
   "source": [
    "# Rules for Python variable"
   ]
  },
  {
   "cell_type": "markdown",
   "id": "2f52c52d",
   "metadata": {},
   "source": [
    "#Rules for Python varlables:\n",
    "1)A variabla name must start with a letter or the underscore character\n",
    "2)A variable name cannot start with a number\n",
    "3)A variable rame can only contain alpha-numeric characters\n",
    "and underscores (A-Z, 8-9, and\n",
    "4)Variable names are case-sensitive\n",
    "(age, Age and AGE are three different variablesS)\n",
    "5)A variable name cannot be any of the python keywords.\n"
   ]
  },
  {
   "cell_type": "markdown",
   "id": "66bd89b7",
   "metadata": {},
   "source": [
    "1)A variabla name must start with a letter or the underscore character"
   ]
  },
  {
   "cell_type": "code",
   "execution_count": 1,
   "id": "d27a2d88",
   "metadata": {},
   "outputs": [
    {
     "name": "stdout",
     "output_type": "stream",
     "text": [
      "3\n"
     ]
    }
   ],
   "source": [
    "a = 3\n",
    "print(a)"
   ]
  },
  {
   "cell_type": "code",
   "execution_count": 2,
   "id": "e2c434b5",
   "metadata": {},
   "outputs": [
    {
     "name": "stdout",
     "output_type": "stream",
     "text": [
      "3\n"
     ]
    }
   ],
   "source": [
    "apple_box = 3\n",
    "print(apple_box)"
   ]
  },
  {
   "cell_type": "code",
   "execution_count": 3,
   "id": "6b248737",
   "metadata": {},
   "outputs": [
    {
     "name": "stdout",
     "output_type": "stream",
     "text": [
      "5\n"
     ]
    }
   ],
   "source": [
    "_ = 5\n",
    "print(_)"
   ]
  },
  {
   "cell_type": "code",
   "execution_count": 4,
   "id": "bab25348",
   "metadata": {},
   "outputs": [
    {
     "name": "stdout",
     "output_type": "stream",
     "text": [
      "7\n"
     ]
    }
   ],
   "source": [
    "_a = 7\n",
    "print(_a)"
   ]
  },
  {
   "cell_type": "markdown",
   "id": "033399a7",
   "metadata": {},
   "source": [
    "2)A variable name cannot stert with a nurber"
   ]
  },
  {
   "cell_type": "code",
   "execution_count": 6,
   "id": "ad1d5c45",
   "metadata": {},
   "outputs": [
    {
     "ename": "SyntaxError",
     "evalue": "cannot assign to literal here. Maybe you meant '==' instead of '='? (1361973803.py, line 1)",
     "output_type": "error",
     "traceback": [
      "\u001b[1;36m  Cell \u001b[1;32mIn[6], line 1\u001b[1;36m\u001b[0m\n\u001b[1;33m    2 = 12\u001b[0m\n\u001b[1;37m    ^\u001b[0m\n\u001b[1;31mSyntaxError\u001b[0m\u001b[1;31m:\u001b[0m cannot assign to literal here. Maybe you meant '==' instead of '='?\n"
     ]
    }
   ],
   "source": [
    "2 = 12\n",
    "print(2)"
   ]
  },
  {
   "cell_type": "code",
   "execution_count": 7,
   "id": "bda29e3e",
   "metadata": {},
   "outputs": [
    {
     "name": "stdout",
     "output_type": "stream",
     "text": [
      "1\n"
     ]
    }
   ],
   "source": [
    "1==23\n",
    "print(1)"
   ]
  },
  {
   "cell_type": "code",
   "execution_count": null,
   "id": "6e93c495",
   "metadata": {},
   "outputs": [
    {
     "ename": "SyntaxError",
     "evalue": "invalid decimal literal (2870557126.py, line 1)",
     "output_type": "error",
     "traceback": [
      "\u001b[1;36m  Cell \u001b[1;32mIn[8], line 1\u001b[1;36m\u001b[0m\n\u001b[1;33m    1_apple =3\u001b[0m\n\u001b[1;37m     ^\u001b[0m\n\u001b[1;31mSyntaxError\u001b[0m\u001b[1;31m:\u001b[0m invalid decimal literal\n"
     ]
    }
   ],
   "source": [
    "1_apple =3\n",
    "print(1_apple)"
   ]
  },
  {
   "cell_type": "markdown",
   "id": "2feeed4f",
   "metadata": {},
   "source": [
    "3)A variable name can only contain alpha-numeric characters\n",
    "and underscores (A-Z, 8-9, and"
   ]
  },
  {
   "cell_type": "code",
   "execution_count": 10,
   "id": "352d48be",
   "metadata": {},
   "outputs": [
    {
     "name": "stdout",
     "output_type": "stream",
     "text": [
      "34\n"
     ]
    }
   ],
   "source": [
    "a_1 = 34\n",
    "print(a_1)"
   ]
  },
  {
   "cell_type": "code",
   "execution_count": 11,
   "id": "9d20cf6f",
   "metadata": {},
   "outputs": [
    {
     "name": "stdout",
     "output_type": "stream",
     "text": [
      "3.5\n"
     ]
    }
   ],
   "source": [
    "abc233xyz =3.5\n",
    "print(abc233xyz)"
   ]
  },
  {
   "cell_type": "code",
   "execution_count": 12,
   "id": "85155d9e",
   "metadata": {},
   "outputs": [
    {
     "ename": "SyntaxError",
     "evalue": "invalid syntax (1103374149.py, line 1)",
     "output_type": "error",
     "traceback": [
      "\u001b[1;36m  Cell \u001b[1;32mIn[12], line 1\u001b[1;36m\u001b[0m\n\u001b[1;33m    &$% = 3\u001b[0m\n\u001b[1;37m    ^\u001b[0m\n\u001b[1;31mSyntaxError\u001b[0m\u001b[1;31m:\u001b[0m invalid syntax\n"
     ]
    }
   ],
   "source": [
    "&$% = 3\n",
    "print(&$%)"
   ]
  },
  {
   "cell_type": "code",
   "execution_count": 14,
   "id": "1db37d53",
   "metadata": {},
   "outputs": [
    {
     "ename": "SyntaxError",
     "evalue": "invalid syntax (3025526215.py, line 1)",
     "output_type": "error",
     "traceback": [
      "\u001b[1;36m  Cell \u001b[1;32mIn[14], line 1\u001b[1;36m\u001b[0m\n\u001b[1;33m    abc&$% =3\u001b[0m\n\u001b[1;37m        ^\u001b[0m\n\u001b[1;31mSyntaxError\u001b[0m\u001b[1;31m:\u001b[0m invalid syntax\n"
     ]
    }
   ],
   "source": [
    "abc&$% =3\n",
    "print(abc&$%)"
   ]
  },
  {
   "cell_type": "markdown",
   "id": "23ed0625",
   "metadata": {},
   "source": [
    "4)Variable names are case-sensitive\n",
    "(age, Age and AGE are three different variablesS)"
   ]
  },
  {
   "cell_type": "code",
   "execution_count": 15,
   "id": "5fd041d2",
   "metadata": {},
   "outputs": [
    {
     "name": "stdout",
     "output_type": "stream",
     "text": [
      "24\n",
      "23\n",
      "67\n"
     ]
    }
   ],
   "source": [
    "age = 24\n",
    "Age = 23\n",
    "AGE = 67\n",
    "print(age)\n",
    "print(Age)\n",
    "print(AGE)"
   ]
  },
  {
   "cell_type": "markdown",
   "id": "e6d8f8d3",
   "metadata": {},
   "source": [
    "5)A variable name cannot be any of the python keywords.\n"
   ]
  },
  {
   "cell_type": "code",
   "execution_count": 16,
   "id": "34cbc003",
   "metadata": {},
   "outputs": [
    {
     "ename": "TypeError",
     "evalue": "'int' object is not callable",
     "output_type": "error",
     "traceback": [
      "\u001b[1;31m---------------------------------------------------------------------------\u001b[0m",
      "\u001b[1;31mTypeError\u001b[0m                                 Traceback (most recent call last)",
      "Cell \u001b[1;32mIn[16], line 2\u001b[0m\n\u001b[0;32m      1\u001b[0m \u001b[38;5;28mprint\u001b[39m\u001b[38;5;241m=\u001b[39m\u001b[38;5;241m12\u001b[39m\n\u001b[1;32m----> 2\u001b[0m \u001b[38;5;28;43mprint\u001b[39;49m\u001b[43m(\u001b[49m\u001b[38;5;28;43mprint\u001b[39;49m\u001b[43m)\u001b[49m\n",
      "\u001b[1;31mTypeError\u001b[0m: 'int' object is not callable"
     ]
    }
   ],
   "source": [
    "print=12\n",
    "print(print)"
   ]
  },
  {
   "cell_type": "code",
   "execution_count": 17,
   "id": "f8b8cec0",
   "metadata": {},
   "outputs": [
    {
     "ename": "TypeError",
     "evalue": "'int' object is not callable",
     "output_type": "error",
     "traceback": [
      "\u001b[1;31m---------------------------------------------------------------------------\u001b[0m",
      "\u001b[1;31mTypeError\u001b[0m                                 Traceback (most recent call last)",
      "Cell \u001b[1;32mIn[17], line 2\u001b[0m\n\u001b[0;32m      1\u001b[0m \u001b[38;5;28mint\u001b[39m \u001b[38;5;241m=\u001b[39m \u001b[38;5;241m2\u001b[39m\n\u001b[1;32m----> 2\u001b[0m \u001b[38;5;28;43mprint\u001b[39;49m\u001b[43m(\u001b[49m\u001b[38;5;28;43mint\u001b[39;49m\u001b[43m)\u001b[49m\n",
      "\u001b[1;31mTypeError\u001b[0m: 'int' object is not callable"
     ]
    }
   ],
   "source": [
    "int = 2\n",
    "print(int)"
   ]
  },
  {
   "cell_type": "markdown",
   "id": "678d77dd",
   "metadata": {},
   "source": [
    "# Data Type in python"
   ]
  },
  {
   "cell_type": "code",
   "execution_count": 4,
   "id": "1c7f93d5",
   "metadata": {},
   "outputs": [
    {
     "name": "stdout",
     "output_type": "stream",
     "text": [
      "9\n",
      "<class 'int'>\n",
      "3.4\n",
      "<class 'float'>\n",
      "My Name is Abhay\n",
      "<class 'str'>\n"
     ]
    }
   ],
   "source": [
    "a = 9\n",
    "b = 3.4\n",
    "c = \"My Name is Abhay\"\n",
    "\n",
    "print(a)\n",
    "print(type(a))\n",
    "print(b)\n",
    "print(type(b))\n",
    "print(c)\n",
    "print(type(c))"
   ]
  },
  {
   "cell_type": "code",
   "execution_count": 5,
   "id": "632c824d",
   "metadata": {},
   "outputs": [
    {
     "name": "stdout",
     "output_type": "stream",
     "text": [
      "[1, 2, 3, 4]\n",
      "<class 'list'>\n"
     ]
    }
   ],
   "source": [
    "b = [1,2,3,4]\n",
    "print(b)\n",
    "print(type(b))"
   ]
  },
  {
   "cell_type": "code",
   "execution_count": 6,
   "id": "89396f0e",
   "metadata": {},
   "outputs": [
    {
     "name": "stdout",
     "output_type": "stream",
     "text": [
      "(3+4j)\n",
      "<class 'complex'>\n"
     ]
    }
   ],
   "source": [
    "num =3+4j\n",
    "print(num)\n",
    "print(type(num))"
   ]
  },
  {
   "cell_type": "code",
   "execution_count": 7,
   "id": "2b9c6788",
   "metadata": {},
   "outputs": [
    {
     "name": "stdout",
     "output_type": "stream",
     "text": [
      "(2, 3, 5)\n",
      "<class 'tuple'>\n"
     ]
    }
   ],
   "source": [
    "c = (2,3,5)\n",
    "print(c)\n",
    "print(type(c))"
   ]
  },
  {
   "cell_type": "code",
   "execution_count": 8,
   "id": "7354edd5",
   "metadata": {},
   "outputs": [
    {
     "name": "stdout",
     "output_type": "stream",
     "text": [
      "True\n",
      "<class 'bool'>\n"
     ]
    }
   ],
   "source": [
    "num1 = True\n",
    "print(num1)\n",
    "print(type(num1))"
   ]
  },
  {
   "cell_type": "code",
   "execution_count": 9,
   "id": "dc1556dc",
   "metadata": {},
   "outputs": [
    {
     "name": "stdout",
     "output_type": "stream",
     "text": [
      "False\n",
      "<class 'bool'>\n"
     ]
    }
   ],
   "source": [
    "num2 = False\n",
    "print(num2)\n",
    "print(type(num2))"
   ]
  },
  {
   "cell_type": "markdown",
   "id": "6f89462d",
   "metadata": {},
   "source": [
    "# Practice Question"
   ]
  },
  {
   "cell_type": "markdown",
   "id": "577b3f43",
   "metadata": {},
   "source": [
    "Que.1\n",
    "\n",
    "\"Imagine you're working on a customer management system, and you have the first name and last name of a customer stored as separate variables. You're developing a customer management system for a retail store. In your database, you have the first name and last name of a customer stored as separate variables: first_name = \"John\" and last_name = \"Doe\". How would you concatenate these strings to form the full name John Doe for the customer’s profile?\"\n",
    "\n"
   ]
  },
  {
   "cell_type": "code",
   "execution_count": 16,
   "id": "abdfa9f4",
   "metadata": {},
   "outputs": [
    {
     "name": "stdout",
     "output_type": "stream",
     "text": [
      "John Doe\n"
     ]
    }
   ],
   "source": [
    "first_name =\"John\"\n",
    "last_name = \"Doe\"\n",
    "\n",
    "full_name =first_name + \" \"+last_name\n",
    "print(full_name)"
   ]
  },
  {
   "cell_type": "code",
   "execution_count": null,
   "id": "7a6177a7",
   "metadata": {},
   "outputs": [],
   "source": []
  }
 ],
 "metadata": {
  "kernelspec": {
   "display_name": "Python 3",
   "language": "python",
   "name": "python3"
  },
  "language_info": {
   "codemirror_mode": {
    "name": "ipython",
    "version": 3
   },
   "file_extension": ".py",
   "mimetype": "text/x-python",
   "name": "python",
   "nbconvert_exporter": "python",
   "pygments_lexer": "ipython3",
   "version": "3.12.10"
  }
 },
 "nbformat": 4,
 "nbformat_minor": 5
}
