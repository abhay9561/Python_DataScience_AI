{
 "cells": [
  {
   "cell_type": "markdown",
   "id": "7815a71d",
   "metadata": {},
   "source": [
    "#  Variable and Data Type in Python \n"
   ]
  },
  {
   "cell_type": "markdown",
   "id": "b2c56760",
   "metadata": {},
   "source": [
    "Creating variable"
   ]
  },
  {
   "cell_type": "code",
   "execution_count": 14,
   "id": "7f8af5b9",
   "metadata": {},
   "outputs": [
    {
     "name": "stdout",
     "output_type": "stream",
     "text": [
      "5\n"
     ]
    }
   ],
   "source": [
    "x = 5\n",
    "print(x)"
   ]
  },
  {
   "cell_type": "code",
   "execution_count": 15,
   "id": "fa3527f2",
   "metadata": {},
   "outputs": [
    {
     "name": "stdout",
     "output_type": "stream",
     "text": [
      "10 2.5 Abhay\n"
     ]
    }
   ],
   "source": [
    "a = 10\n",
    "b = 2.5\n",
    "c = 'Abhay'\n",
    "print(a,b,c)"
   ]
  },
  {
   "cell_type": "code",
   "execution_count": 16,
   "id": "3011a46b",
   "metadata": {},
   "outputs": [
    {
     "name": "stdout",
     "output_type": "stream",
     "text": [
      "we are learning machine learning\n"
     ]
    }
   ],
   "source": [
    "y = \"we are learning machine learning\"\n",
    "print(y)"
   ]
  },
  {
   "cell_type": "code",
   "execution_count": 17,
   "id": "b5bc7249",
   "metadata": {},
   "outputs": [
    {
     "name": "stdout",
     "output_type": "stream",
     "text": [
      "Variable   Type     Data/Info\n",
      "-----------------------------\n",
      "a          int      10\n",
      "b          float    2.5\n",
      "c          str      Abhay\n",
      "x          int      5\n",
      "y          str      we are learning machine learning\n"
     ]
    }
   ],
   "source": [
    "# its check how many variable we have  still now\n",
    "%whos "
   ]
  },
  {
   "cell_type": "markdown",
   "id": "581eada1",
   "metadata": {},
   "source": [
    "# Rules for Python variable"
   ]
  },
  {
   "cell_type": "markdown",
   "id": "2f52c52d",
   "metadata": {},
   "source": [
    "#Rules for Python varlables:\n",
    "1)A variabla name must start with a letter or the underscore character\n",
    "2)A variable name cannot start with a number\n",
    "3)A variable rame can only contain alpha-numeric characters\n",
    "and underscores (A-Z, 8-9, and\n",
    "4)Variable names are case-sensitive\n",
    "(age, Age and AGE are three different variablesS)\n",
    "5)A variable name cannot be any of the python keywords.\n"
   ]
  },
  {
   "cell_type": "markdown",
   "id": "66bd89b7",
   "metadata": {},
   "source": [
    "1)A variabla name must start with a letter or the underscore character"
   ]
  },
  {
   "cell_type": "code",
   "execution_count": 1,
   "id": "d27a2d88",
   "metadata": {},
   "outputs": [
    {
     "name": "stdout",
     "output_type": "stream",
     "text": [
      "3\n"
     ]
    }
   ],
   "source": [
    "a = 3\n",
    "print(a)"
   ]
  },
  {
   "cell_type": "code",
   "execution_count": 2,
   "id": "e2c434b5",
   "metadata": {},
   "outputs": [
    {
     "name": "stdout",
     "output_type": "stream",
     "text": [
      "3\n"
     ]
    }
   ],
   "source": [
    "apple_box = 3\n",
    "print(apple_box)"
   ]
  },
  {
   "cell_type": "code",
   "execution_count": 3,
   "id": "6b248737",
   "metadata": {},
   "outputs": [
    {
     "name": "stdout",
     "output_type": "stream",
     "text": [
      "5\n"
     ]
    }
   ],
   "source": [
    "_ = 5\n",
    "print(_)"
   ]
  },
  {
   "cell_type": "code",
   "execution_count": 4,
   "id": "bab25348",
   "metadata": {},
   "outputs": [
    {
     "name": "stdout",
     "output_type": "stream",
     "text": [
      "7\n"
     ]
    }
   ],
   "source": [
    "_a = 7\n",
    "print(_a)"
   ]
  },
  {
   "cell_type": "markdown",
   "id": "033399a7",
   "metadata": {},
   "source": [
    "2)A variable name cannot stert with a nurber"
   ]
  },
  {
   "cell_type": "code",
   "execution_count": 6,
   "id": "ad1d5c45",
   "metadata": {},
   "outputs": [
    {
     "ename": "SyntaxError",
     "evalue": "cannot assign to literal here. Maybe you meant '==' instead of '='? (1361973803.py, line 1)",
     "output_type": "error",
     "traceback": [
      "\u001b[1;36m  Cell \u001b[1;32mIn[6], line 1\u001b[1;36m\u001b[0m\n\u001b[1;33m    2 = 12\u001b[0m\n\u001b[1;37m    ^\u001b[0m\n\u001b[1;31mSyntaxError\u001b[0m\u001b[1;31m:\u001b[0m cannot assign to literal here. Maybe you meant '==' instead of '='?\n"
     ]
    }
   ],
   "source": [
    "2 = 12\n",
    "print(2)"
   ]
  },
  {
   "cell_type": "code",
   "execution_count": 7,
   "id": "bda29e3e",
   "metadata": {},
   "outputs": [
    {
     "name": "stdout",
     "output_type": "stream",
     "text": [
      "1\n"
     ]
    }
   ],
   "source": [
    "1==23\n",
    "print(1)"
   ]
  },
  {
   "cell_type": "code",
   "execution_count": null,
   "id": "6e93c495",
   "metadata": {},
   "outputs": [
    {
     "ename": "SyntaxError",
     "evalue": "invalid decimal literal (2870557126.py, line 1)",
     "output_type": "error",
     "traceback": [
      "\u001b[1;36m  Cell \u001b[1;32mIn[8], line 1\u001b[1;36m\u001b[0m\n\u001b[1;33m    1_apple =3\u001b[0m\n\u001b[1;37m     ^\u001b[0m\n\u001b[1;31mSyntaxError\u001b[0m\u001b[1;31m:\u001b[0m invalid decimal literal\n"
     ]
    }
   ],
   "source": [
    "1_apple =3\n",
    "print(1_apple)"
   ]
  },
  {
   "cell_type": "markdown",
   "id": "2feeed4f",
   "metadata": {},
   "source": [
    "3)A variable rame can only contain alpha-numeric characters\n",
    "and underscores (A-Z, 8-9, and"
   ]
  },
  {
   "cell_type": "markdown",
   "id": "a425e136",
   "metadata": {},
   "source": []
  }
 ],
 "metadata": {
  "kernelspec": {
   "display_name": "Python 3",
   "language": "python",
   "name": "python3"
  },
  "language_info": {
   "codemirror_mode": {
    "name": "ipython",
    "version": 3
   },
   "file_extension": ".py",
   "mimetype": "text/x-python",
   "name": "python",
   "nbconvert_exporter": "python",
   "pygments_lexer": "ipython3",
   "version": "3.12.10"
  }
 },
 "nbformat": 4,
 "nbformat_minor": 5
}
