{
 "cells": [
  {
   "cell_type": "markdown",
   "id": "7815a71d",
   "metadata": {},
   "source": [
    "#  Variable and Data Type in Python \n"
   ]
  },
  {
   "cell_type": "markdown",
   "id": "b2c56760",
   "metadata": {},
   "source": [
    "Creating variable"
   ]
  },
  {
   "cell_type": "code",
   "execution_count": 14,
   "id": "7f8af5b9",
   "metadata": {},
   "outputs": [
    {
     "name": "stdout",
     "output_type": "stream",
     "text": [
      "5\n"
     ]
    }
   ],
   "source": [
    "x = 5\n",
    "print(x)"
   ]
  },
  {
   "cell_type": "code",
   "execution_count": 15,
   "id": "fa3527f2",
   "metadata": {},
   "outputs": [
    {
     "name": "stdout",
     "output_type": "stream",
     "text": [
      "10 2.5 Abhay\n"
     ]
    }
   ],
   "source": [
    "a = 10\n",
    "b = 2.5\n",
    "c = 'Abhay'\n",
    "print(a,b,c)"
   ]
  },
  {
   "cell_type": "code",
   "execution_count": 16,
   "id": "3011a46b",
   "metadata": {},
   "outputs": [
    {
     "name": "stdout",
     "output_type": "stream",
     "text": [
      "we are learning machine learning\n"
     ]
    }
   ],
   "source": [
    "y = \"we are learning machine learning\"\n",
    "print(y)"
   ]
  },
  {
   "cell_type": "code",
   "execution_count": 17,
   "id": "b5bc7249",
   "metadata": {},
   "outputs": [
    {
     "name": "stdout",
     "output_type": "stream",
     "text": [
      "Variable   Type     Data/Info\n",
      "-----------------------------\n",
      "a          int      10\n",
      "b          float    2.5\n",
      "c          str      Abhay\n",
      "x          int      5\n",
      "y          str      we are learning machine learning\n"
     ]
    }
   ],
   "source": [
    "# its check how many variable we have  still now\n",
    "%whos "
   ]
  },
  {
   "cell_type": "markdown",
   "id": "9b7ff521",
   "metadata": {},
   "source": [
    "i have to make more code in this file"
   ]
  },
  {
   "cell_type": "markdown",
   "id": "c98222e5",
   "metadata": {},
   "source": [
    "i have to make more code in this file|"
   ]
  },
  {
   "cell_type": "markdown",
   "id": "7a3d046f",
   "metadata": {},
   "source": []
  },
  {
   "cell_type": "markdown",
   "id": "7c10f66d",
   "metadata": {},
   "source": [
    "i have to make more code in this file"
   ]
  },
  {
   "cell_type": "markdown",
   "id": "3e12c02f",
   "metadata": {},
   "source": [
    "i have to make more code in this file"
   ]
  },
  {
   "cell_type": "markdown",
   "id": "76ed18ed",
   "metadata": {},
   "source": [
    "okay you will add"
   ]
  },
  {
   "cell_type": "code",
   "execution_count": 13,
   "id": "07dab485",
   "metadata": {},
   "outputs": [
    {
     "ename": "TypeError",
     "evalue": "'str' object is not callable",
     "output_type": "error",
     "traceback": [
      "\u001b[1;31m---------------------------------------------------------------------------\u001b[0m",
      "\u001b[1;31mTypeError\u001b[0m                                 Traceback (most recent call last)",
      "Cell \u001b[1;32mIn[13], line 3\u001b[0m\n\u001b[0;32m      1\u001b[0m a \u001b[38;5;241m=\u001b[39m\u001b[38;5;241m10\u001b[39m\n\u001b[0;32m      2\u001b[0m b \u001b[38;5;241m=\u001b[39m\u001b[38;5;241m10\u001b[39m\n\u001b[1;32m----> 3\u001b[0m \u001b[38;5;28;43mprint\u001b[39;49m\u001b[43m(\u001b[49m\u001b[43ma\u001b[49m\u001b[38;5;241;43m*\u001b[39;49m\u001b[43mb\u001b[49m\u001b[43m)\u001b[49m\n",
      "\u001b[1;31mTypeError\u001b[0m: 'str' object is not callable"
     ]
    }
   ],
   "source": [
    "a =10\n",
    "b =10\n",
    "print(a*b)"
   ]
  },
  {
   "cell_type": "markdown",
   "id": "c5017028",
   "metadata": {},
   "source": [
    "Abhay"
   ]
  },
  {
   "cell_type": "code",
   "execution_count": null,
   "id": "77fcd06e",
   "metadata": {},
   "outputs": [],
   "source": []
  }
 ],
 "metadata": {
  "kernelspec": {
   "display_name": "Python 3",
   "language": "python",
   "name": "python3"
  },
  "language_info": {
   "codemirror_mode": {
    "name": "ipython",
    "version": 3
   },
   "file_extension": ".py",
   "mimetype": "text/x-python",
   "name": "python",
   "nbconvert_exporter": "python",
   "pygments_lexer": "ipython3",
   "version": "3.12.10"
  }
 },
 "nbformat": 4,
 "nbformat_minor": 5
}
