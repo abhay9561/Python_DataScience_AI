{
 "cells": [
  {
   "cell_type": "markdown",
   "id": "c2d25c82",
   "metadata": {},
   "source": [
    "## Control flow statements"
   ]
  },
  {
   "cell_type": "markdown",
   "id": "685a1d97",
   "metadata": {},
   "source": [
    "## if statement"
   ]
  },
  {
   "cell_type": "code",
   "execution_count": 1,
   "id": "150cb530",
   "metadata": {},
   "outputs": [
    {
     "name": "stdout",
     "output_type": "stream",
     "text": [
      "20 is greater than  10\n"
     ]
    }
   ],
   "source": [
    "i = 20\n",
    "\n",
    "if i>10:\n",
    "    print(\"20 is greater than  10\")"
   ]
  },
  {
   "cell_type": "code",
   "execution_count": 5,
   "id": "5c1eb0de",
   "metadata": {},
   "outputs": [
    {
     "name": "stdout",
     "output_type": "stream",
     "text": [
      "condition is false\n"
     ]
    }
   ],
   "source": [
    "i = 20\n",
    "\n",
    "if i<10:\n",
    "    print(\"20 is greater than  10\")\n",
    "print(\"condition is false\")"
   ]
  },
  {
   "cell_type": "markdown",
   "id": "e1aeacc9",
   "metadata": {},
   "source": [
    "Develop a temperature converter in Python for a\n",
    "cold storage that converts temperatures\n",
    "between Celsius and Fahrenheit scales.\n",
    "The program should take a temperature value\n",
    "and a unit (C or F) as input. If the temperature\n",
    "is less than 15 degrees Celsius, inform the user\n",
    "that the temperature is not convenient.\n",
    "If the temperature is between 24 to 28 degrees Celsius,\n",
    "inform the user that the temperature is convenient."
   ]
  },
  {
   "cell_type": "code",
   "execution_count": 7,
   "id": "7a237017",
   "metadata": {},
   "outputs": [
    {
     "name": "stdout",
     "output_type": "stream",
     "text": [
      "Temperature is not convininet\n"
     ]
    }
   ],
   "source": [
    "temp = float(input(\"enter the temp\"))\n",
    "\n",
    "if temp<15:\n",
    "    print(\"Temperature is not convininet\")\n",
    "if 24<temp<28:\n",
    "    print(\"Temperature is convinient\")"
   ]
  },
  {
   "cell_type": "code",
   "execution_count": 8,
   "id": "d17fea63",
   "metadata": {},
   "outputs": [
    {
     "name": "stdout",
     "output_type": "stream",
     "text": [
      "Temperature is convinient\n"
     ]
    }
   ],
   "source": [
    "temp = float(input(\"enter the temp\"))\n",
    "\n",
    "if temp<15:\n",
    "    print(\"Temperature is not convininet\")\n",
    "if 24<temp<28:\n",
    "    print(\"Temperature is convinient\")"
   ]
  },
  {
   "cell_type": "markdown",
   "id": "fc8a9439",
   "metadata": {},
   "source": [
    "## if else  statement"
   ]
  },
  {
   "cell_type": "markdown",
   "id": "92f5438f",
   "metadata": {},
   "source": [
    "Write a program to check a person is eligible for voting or not"
   ]
  },
  {
   "cell_type": "code",
   "execution_count": 11,
   "id": "5d6d7054",
   "metadata": {},
   "outputs": [
    {
     "name": "stdout",
     "output_type": "stream",
     "text": [
      "you are not eligibal for vote\n"
     ]
    }
   ],
   "source": [
    "age =int(input(\"Enter you age\"))\n",
    "\n",
    "if age>18:\n",
    "    print(\"You are eligible for vote\")\n",
    "else:\n",
    "    print(\"you are not eligibal for vote\")"
   ]
  },
  {
   "cell_type": "code",
   "execution_count": 12,
   "id": "1decfca9",
   "metadata": {},
   "outputs": [
    {
     "name": "stdout",
     "output_type": "stream",
     "text": [
      "You are eligible for vote\n"
     ]
    }
   ],
   "source": [
    "age =int(input(\"Enter you age\"))\n",
    "\n",
    "if age>18:\n",
    "    print(\"You are eligible for vote\")\n",
    "else:\n",
    "    print(\"you are not eligibal for vote\")"
   ]
  },
  {
   "cell_type": "markdown",
   "id": "ae38e9cc",
   "metadata": {},
   "source": [
    "You are tasked with developing a Python program\n",
    "to manage employee salaries for a company.\n",
    "Your program should calculate the net salary\n",
    "of each employee based on their base salary, deductions,\n",
    "and bonuses. Additionally, employees who have been with\n",
    "the company for more than 5 years are eligible for an\n",
    "additional loyalty bonus, 8% of salary. Deductions of tax will be 12%.\n",
    "\n",
    "Write a Python script that prompts the user to\n",
    "input the following information for each employee:\n",
    "Base salary\n",
    "Years of service\n",
    "\n",
    "After calculating the net salary,\n",
    "the program should print a summary for each employee\n",
    "including their base salary, deductions, bonuses,\n",
    "loyalty bonus (if applicable), and net salary."
   ]
  },
  {
   "cell_type": "code",
   "execution_count": 14,
   "id": "2529c165",
   "metadata": {},
   "outputs": [
    {
     "name": "stdout",
     "output_type": "stream",
     "text": [
      "your net salary 44000.0\n"
     ]
    }
   ],
   "source": [
    "base_salary =float(input(\"Enter your base salary\"))\n",
    "years_of_service = int(input(\"Enter your years of service\"))\n",
    "\n",
    "if years_of_service >5:\n",
    "    total_salary = base_salary + (0.08*base_salary) - (0.12*base_salary)\n",
    "    print(\"you will get net salary\", total_salary)\n",
    "    \n",
    "else:\n",
    "    net_salary = base_salary -(0.12*base_salary)\n",
    "    print(\"your net salary\", net_salary)\n",
    "        "
   ]
  },
  {
   "cell_type": "code",
   "execution_count": null,
   "id": "84598116",
   "metadata": {},
   "outputs": [
    {
     "name": "stdout",
     "output_type": "stream",
     "text": [
      "you will get net salary 48000.0\n"
     ]
    }
   ],
   "source": [
    "base_salary =float(input(\"Enter your base salary\"))\n",
    "years_of_service = int(input(\"Enter your years of service\"))\n",
    "\n",
    "if years_of_service >5:\n",
    "    total_salary = base_salary + (0.08*base_salary) - (0.12*base_salary)\n",
    "    print(\"you will get net salary\", total_salary)\n",
    "    \n",
    "else:\n",
    "    net_salary = base_salary -(0.12*base_salary)\n",
    "    print(\"your net salary\", net_salary)"
   ]
  },
  {
   "cell_type": "markdown",
   "id": "113c722b",
   "metadata": {},
   "source": [
    "## if elif else"
   ]
  },
  {
   "cell_type": "markdown",
   "id": "0562536b",
   "metadata": {},
   "source": [
    "Write a Python program that prompts the user to input\n",
    "a city and displays the famous monument of that city.\n",
    "\n",
    "Mumbai: Gateway of India\n",
    "Kolkata: Victoria Memorial\n",
    "Chennai: Marina Beach\n",
    "Bangalore: Botanical Garden\n",
    "Pune: Shaniwar Wada\n",
    "\n",
    "Write a Python script to implement this functionality."
   ]
  },
  {
   "cell_type": "code",
   "execution_count": 8,
   "id": "68d0c7e3",
   "metadata": {},
   "outputs": [
    {
     "name": "stdout",
     "output_type": "stream",
     "text": [
      "the famous monument of pune is shaniwar wada\n"
     ]
    }
   ],
   "source": [
    "a = input(\"enter the city\")\n",
    "\n",
    "if a==\"mumbai\":\n",
    "    print(\"The famous monument of mumbai is of india\")\n",
    "elif a==\"kolkata\":\n",
    "    print(\"the famous monument of kolakata is victoria memorial\")\n",
    "elif a==\"chennai\":\n",
    "    print(\"The famous monument of chennai is Marina Beach\")\n",
    "elif a==\"bangalore\":\n",
    "    print(\"the famous monument of bangalore is botanical garden\")\n",
    "elif a==\"pune\":\n",
    "    print(\"the famous monument of pune is shaniwar wada\")\n",
    "else:\n",
    "    print(\"record is not found\")\n"
   ]
  },
  {
   "cell_type": "code",
   "execution_count": null,
   "id": "b00cc2d6",
   "metadata": {},
   "outputs": [],
   "source": []
  }
 ],
 "metadata": {
  "kernelspec": {
   "display_name": "Python 3",
   "language": "python",
   "name": "python3"
  },
  "language_info": {
   "codemirror_mode": {
    "name": "ipython",
    "version": 3
   },
   "file_extension": ".py",
   "mimetype": "text/x-python",
   "name": "python",
   "nbconvert_exporter": "python",
   "pygments_lexer": "ipython3",
   "version": "3.12.10"
  }
 },
 "nbformat": 4,
 "nbformat_minor": 5
}
