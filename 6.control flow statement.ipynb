{
 "cells": [
  {
   "cell_type": "markdown",
   "id": "c2d25c82",
   "metadata": {},
   "source": [
    "## Control flow statements"
   ]
  },
  {
   "cell_type": "markdown",
   "id": "685a1d97",
   "metadata": {},
   "source": [
    "## if statement"
   ]
  },
  {
   "cell_type": "code",
   "execution_count": 1,
   "id": "150cb530",
   "metadata": {},
   "outputs": [
    {
     "name": "stdout",
     "output_type": "stream",
     "text": [
      "20 is greater than  10\n"
     ]
    }
   ],
   "source": [
    "i = 20\n",
    "\n",
    "if i>10:\n",
    "    print(\"20 is greater than  10\")"
   ]
  },
  {
   "cell_type": "code",
   "execution_count": 5,
   "id": "5c1eb0de",
   "metadata": {},
   "outputs": [
    {
     "name": "stdout",
     "output_type": "stream",
     "text": [
      "condition is false\n"
     ]
    }
   ],
   "source": [
    "i = 20\n",
    "\n",
    "if i<10:\n",
    "    print(\"20 is greater than  10\")\n",
    "print(\"condition is false\")"
   ]
  },
  {
   "cell_type": "code",
   "execution_count": null,
   "id": "1abf417d",
   "metadata": {},
   "outputs": [],
   "source": []
  },
  {
   "cell_type": "code",
   "execution_count": 7,
   "id": "7a237017",
   "metadata": {},
   "outputs": [
    {
     "name": "stdout",
     "output_type": "stream",
     "text": [
      "Temperature is not convininet\n"
     ]
    }
   ],
   "source": [
    "temp = float(input(\"enter the temp\"))\n",
    "\n",
    "if temp<15:\n",
    "    print(\"Temperature is not convininet\")\n",
    "if 24<temp<28:\n",
    "    print(\"Temperature is convinient\")"
   ]
  },
  {
   "cell_type": "code",
   "execution_count": 8,
   "id": "d17fea63",
   "metadata": {},
   "outputs": [
    {
     "name": "stdout",
     "output_type": "stream",
     "text": [
      "Temperature is convinient\n"
     ]
    }
   ],
   "source": [
    "temp = float(input(\"enter the temp\"))\n",
    "\n",
    "if temp<15:\n",
    "    print(\"Temperature is not convininet\")\n",
    "if 24<temp<28:\n",
    "    print(\"Temperature is convinient\")"
   ]
  },
  {
   "cell_type": "code",
   "execution_count": null,
   "id": "1decfca9",
   "metadata": {},
   "outputs": [],
   "source": []
  }
 ],
 "metadata": {
  "kernelspec": {
   "display_name": "Python 3",
   "language": "python",
   "name": "python3"
  },
  "language_info": {
   "codemirror_mode": {
    "name": "ipython",
    "version": 3
   },
   "file_extension": ".py",
   "mimetype": "text/x-python",
   "name": "python",
   "nbconvert_exporter": "python",
   "pygments_lexer": "ipython3",
   "version": "3.12.10"
  }
 },
 "nbformat": 4,
 "nbformat_minor": 5
}
