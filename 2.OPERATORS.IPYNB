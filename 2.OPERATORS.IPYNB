{
 "cells": [
  {
   "cell_type": "markdown",
   "id": "905ce15d",
   "metadata": {},
   "source": [
    "#  Arthematic operator"
   ]
  },
  {
   "cell_type": "markdown",
   "id": "3d4a2796",
   "metadata": {},
   "source": [
    "Addition"
   ]
  },
  {
   "cell_type": "code",
   "execution_count": 1,
   "id": "c3bd53ef",
   "metadata": {},
   "outputs": [
    {
     "name": "stdout",
     "output_type": "stream",
     "text": [
      "4\n"
     ]
    }
   ],
   "source": [
    "a = 1\n",
    "b = 3\n",
    "print(a+b)"
   ]
  },
  {
   "cell_type": "code",
   "execution_count": null,
   "id": "fffd4662",
   "metadata": {},
   "outputs": [
    {
     "name": "stdout",
     "output_type": "stream",
     "text": [
      "4.0\n"
     ]
    }
   ],
   "source": [
    "x = 1.5 #float values\n",
    "y = 2.5\n",
    "print(x+y)"
   ]
  },
  {
   "cell_type": "code",
   "execution_count": 3,
   "id": "1ab7bff3",
   "metadata": {},
   "outputs": [
    {
     "name": "stdout",
     "output_type": "stream",
     "text": [
      "hellostudents\n"
     ]
    }
   ],
   "source": [
    "a1 = \"hello\"\n",
    "b1 = \"students\"\n",
    "print(a1+b1)"
   ]
  },
  {
   "cell_type": "code",
   "execution_count": null,
   "id": "ff7f82e1",
   "metadata": {},
   "outputs": [
    {
     "name": "stdout",
     "output_type": "stream",
     "text": [
      "hello students\n"
     ]
    }
   ],
   "source": [
    "a1 = \"hello\"    #string\n",
    "b1 = \"students\"\n",
    "print(a1+\" \"+b1)"
   ]
  },
  {
   "cell_type": "code",
   "execution_count": null,
   "id": "d314ddf7",
   "metadata": {},
   "outputs": [
    {
     "name": "stdout",
     "output_type": "stream",
     "text": [
      "(3+8j)\n"
     ]
    }
   ],
   "source": [
    "x1 = 2+3j  #complex number\n",
    "y1 = 1+5j\n",
    "print(x1+y1)"
   ]
  },
  {
   "cell_type": "code",
   "execution_count": 10,
   "id": "200f7fdc",
   "metadata": {},
   "outputs": [
    {
     "name": "stdout",
     "output_type": "stream",
     "text": [
      "-2\n"
     ]
    }
   ],
   "source": [
    "w1 = -5\n",
    "w2 = 3\n",
    "print(w1+w2)"
   ]
  },
  {
   "cell_type": "markdown",
   "id": "0ab192ae",
   "metadata": {},
   "source": [
    "Subtraction operator"
   ]
  },
  {
   "cell_type": "code",
   "execution_count": 14,
   "id": "58eba606",
   "metadata": {},
   "outputs": [
    {
     "name": "stdout",
     "output_type": "stream",
     "text": [
      "5\n"
     ]
    }
   ],
   "source": [
    "num1 = 8\n",
    "num2 = 3\n",
    "print(num1 - num2)\n"
   ]
  },
  {
   "cell_type": "code",
   "execution_count": 15,
   "id": "cf00ca32",
   "metadata": {},
   "outputs": [
    {
     "name": "stdout",
     "output_type": "stream",
     "text": [
      "0.019999999999999574\n"
     ]
    }
   ],
   "source": [
    "a4 = 5.67\n",
    "b4 = 5.65\n",
    "print(a4-b4)"
   ]
  },
  {
   "cell_type": "code",
   "execution_count": 17,
   "id": "5b7f37f0",
   "metadata": {},
   "outputs": [
    {
     "ename": "TypeError",
     "evalue": "unsupported operand type(s) for -: 'str' and 'str'",
     "output_type": "error",
     "traceback": [
      "\u001b[1;31m---------------------------------------------------------------------------\u001b[0m",
      "\u001b[1;31mTypeError\u001b[0m                                 Traceback (most recent call last)",
      "Cell \u001b[1;32mIn[17], line 3\u001b[0m\n\u001b[0;32m      1\u001b[0m a \u001b[38;5;241m=\u001b[39m\u001b[38;5;124m\"\u001b[39m\u001b[38;5;124mhello\u001b[39m\u001b[38;5;124m\"\u001b[39m   \u001b[38;5;66;03m#cant support string in subtraction operator\u001b[39;00m\n\u001b[0;32m      2\u001b[0m b \u001b[38;5;241m=\u001b[39m \u001b[38;5;124m\"\u001b[39m\u001b[38;5;124mstudents\u001b[39m\u001b[38;5;124m\"\u001b[39m\n\u001b[1;32m----> 3\u001b[0m \u001b[38;5;28mprint\u001b[39m(\u001b[43ma\u001b[49m\u001b[38;5;241;43m-\u001b[39;49m\u001b[43mb\u001b[49m)\n",
      "\u001b[1;31mTypeError\u001b[0m: unsupported operand type(s) for -: 'str' and 'str'"
     ]
    }
   ],
   "source": [
    "a =\"hello\"   #cant support string in subtraction operator\n",
    "b = \"students\"\n",
    "print(a-b)"
   ]
  },
  {
   "cell_type": "code",
   "execution_count": 18,
   "id": "b6b31d66",
   "metadata": {},
   "outputs": [
    {
     "name": "stdout",
     "output_type": "stream",
     "text": [
      "(2+4j)\n"
     ]
    }
   ],
   "source": [
    "a1=5+9j\n",
    "c1=3+5j\n",
    "print(a1-c1)"
   ]
  },
  {
   "cell_type": "markdown",
   "id": "f81493c9",
   "metadata": {},
   "source": [
    "Multiplication"
   ]
  },
  {
   "cell_type": "code",
   "execution_count": 19,
   "id": "34fb606d",
   "metadata": {},
   "outputs": [
    {
     "name": "stdout",
     "output_type": "stream",
     "text": [
      "15\n"
     ]
    }
   ],
   "source": [
    "n  = 3\n",
    "b = 5\n",
    "print(n*b)"
   ]
  },
  {
   "cell_type": "code",
   "execution_count": 20,
   "id": "e8d8a7c8",
   "metadata": {},
   "outputs": [
    {
     "name": "stdout",
     "output_type": "stream",
     "text": [
      "20.282933584690454\n"
     ]
    }
   ],
   "source": [
    "n1 = 3.4556860444566\n",
    "b1 = 5.8694375946643345\n",
    "print(n1*b1)"
   ]
  },
  {
   "cell_type": "code",
   "execution_count": 23,
   "id": "a9aac30c",
   "metadata": {},
   "outputs": [
    {
     "name": "stdout",
     "output_type": "stream",
     "text": [
      "hellohellohellohellohello\n"
     ]
    }
   ],
   "source": [
    "str = \"hello\"\n",
    "print(str*5)"
   ]
  },
  {
   "cell_type": "code",
   "execution_count": null,
   "id": "f60b31ee",
   "metadata": {},
   "outputs": [
    {
     "ename": "TypeError",
     "evalue": "can't multiply sequence by non-int of type 'str'",
     "output_type": "error",
     "traceback": [
      "\u001b[1;31m---------------------------------------------------------------------------\u001b[0m",
      "\u001b[1;31mTypeError\u001b[0m                                 Traceback (most recent call last)",
      "Cell \u001b[1;32mIn[24], line 3\u001b[0m\n\u001b[0;32m      1\u001b[0m str1 \u001b[38;5;241m=\u001b[39m \u001b[38;5;124m\"\u001b[39m\u001b[38;5;124mhello\u001b[39m\u001b[38;5;124m\"\u001b[39m\n\u001b[0;32m      2\u001b[0m str2 \u001b[38;5;241m=\u001b[39m \u001b[38;5;124m\"\u001b[39m\u001b[38;5;124mword\u001b[39m\u001b[38;5;124m\"\u001b[39m\n\u001b[1;32m----> 3\u001b[0m \u001b[38;5;28mprint\u001b[39m(\u001b[43mstr1\u001b[49m\u001b[38;5;241;43m*\u001b[39;49m\u001b[43mstr2\u001b[49m)\n",
      "\u001b[1;31mTypeError\u001b[0m: can't multiply sequence by non-int of type 'str'"
     ]
    }
   ],
   "source": [
    "str1 = \"hello\" # cant multiply two string\n",
    "str2 = \"word\"\n",
    "print(str1*str2)"
   ]
  },
  {
   "cell_type": "code",
   "execution_count": 25,
   "id": "0f6fb229",
   "metadata": {},
   "outputs": [
    {
     "name": "stdout",
     "output_type": "stream",
     "text": [
      "(-6+17j)\n"
     ]
    }
   ],
   "source": [
    "a1 = 2+3j\n",
    "b1 = 3+4j\n",
    "print(a1*b1)"
   ]
  },
  {
   "cell_type": "markdown",
   "id": "d46e628e",
   "metadata": {},
   "source": [
    "# Division"
   ]
  },
  {
   "cell_type": "code",
   "execution_count": 26,
   "id": "dea36738",
   "metadata": {},
   "outputs": [
    {
     "name": "stdout",
     "output_type": "stream",
     "text": [
      "5.0\n"
     ]
    }
   ],
   "source": [
    "a = 15\n",
    "b = 3\n",
    "print(a/b)"
   ]
  },
  {
   "cell_type": "code",
   "execution_count": 27,
   "id": "ad147b1d",
   "metadata": {},
   "outputs": [
    {
     "name": "stdout",
     "output_type": "stream",
     "text": [
      "65099.01336259347\n"
     ]
    }
   ],
   "source": [
    "a1 = 1529485.584783\n",
    "b1 = 23.494758304\n",
    "print(a1/b1)"
   ]
  },
  {
   "cell_type": "code",
   "execution_count": 28,
   "id": "a6a0800d",
   "metadata": {},
   "outputs": [
    {
     "name": "stdout",
     "output_type": "stream",
     "text": [
      "(1.6-0.2j)\n"
     ]
    }
   ],
   "source": [
    "v1 = 2+3j\n",
    "v2 =1+2j\n",
    "print(v1/v2)"
   ]
  },
  {
   "cell_type": "code",
   "execution_count": 30,
   "id": "4f1a5906",
   "metadata": {},
   "outputs": [
    {
     "ename": "TypeError",
     "evalue": "unsupported operand type(s) for /: 'str' and 'str'",
     "output_type": "error",
     "traceback": [
      "\u001b[1;31m---------------------------------------------------------------------------\u001b[0m",
      "\u001b[1;31mTypeError\u001b[0m                                 Traceback (most recent call last)",
      "Cell \u001b[1;32mIn[30], line 3\u001b[0m\n\u001b[0;32m      1\u001b[0m str1 \u001b[38;5;241m=\u001b[39m \u001b[38;5;124m\"\u001b[39m\u001b[38;5;124mhello\u001b[39m\u001b[38;5;124m\"\u001b[39m \u001b[38;5;66;03m# cant divide two string\u001b[39;00m\n\u001b[0;32m      2\u001b[0m str2 \u001b[38;5;241m=\u001b[39m \u001b[38;5;124m\"\u001b[39m\u001b[38;5;124mword\u001b[39m\u001b[38;5;124m\"\u001b[39m\n\u001b[1;32m----> 3\u001b[0m \u001b[38;5;28mprint\u001b[39m(\u001b[43mstr1\u001b[49m\u001b[38;5;241;43m/\u001b[39;49m\u001b[43mstr2\u001b[49m)\n",
      "\u001b[1;31mTypeError\u001b[0m: unsupported operand type(s) for /: 'str' and 'str'"
     ]
    }
   ],
   "source": [
    "str1 = \"hello\" # cant divide two string\n",
    "str2 = \"word\"\n",
    "print(str1/str2)"
   ]
  },
  {
   "cell_type": "markdown",
   "id": "6aab52be",
   "metadata": {},
   "source": [
    "# Modulous"
   ]
  },
  {
   "cell_type": "code",
   "execution_count": 32,
   "id": "46c412dd",
   "metadata": {},
   "outputs": [
    {
     "name": "stdout",
     "output_type": "stream",
     "text": [
      "0\n"
     ]
    }
   ],
   "source": [
    "print(12%3)"
   ]
  },
  {
   "cell_type": "code",
   "execution_count": 33,
   "id": "cbcc33c3",
   "metadata": {},
   "outputs": [
    {
     "name": "stdout",
     "output_type": "stream",
     "text": [
      "4\n"
     ]
    }
   ],
   "source": [
    "print(19%5)"
   ]
  },
  {
   "cell_type": "code",
   "execution_count": 34,
   "id": "e4603e2a",
   "metadata": {},
   "outputs": [
    {
     "name": "stdout",
     "output_type": "stream",
     "text": [
      "39\n"
     ]
    }
   ],
   "source": [
    "print(2347758958549444%85)"
   ]
  },
  {
   "cell_type": "code",
   "execution_count": 35,
   "id": "362c967a",
   "metadata": {},
   "outputs": [
    {
     "name": "stdout",
     "output_type": "stream",
     "text": [
      "1.1944000000000257\n"
     ]
    }
   ],
   "source": [
    "a1 = 495.5944\n",
    "b1 = 2.4\n",
    "print(a1%b1)"
   ]
  },
  {
   "cell_type": "code",
   "execution_count": 37,
   "id": "8afe7b97",
   "metadata": {},
   "outputs": [
    {
     "ename": "TypeError",
     "evalue": "unsupported operand type(s) for %: 'complex' and 'complex'",
     "output_type": "error",
     "traceback": [
      "\u001b[1;31m---------------------------------------------------------------------------\u001b[0m",
      "\u001b[1;31mTypeError\u001b[0m                                 Traceback (most recent call last)",
      "Cell \u001b[1;32mIn[37], line 3\u001b[0m\n\u001b[0;32m      1\u001b[0m a1 \u001b[38;5;241m=\u001b[39m \u001b[38;5;241m5\u001b[39m\u001b[38;5;241m+\u001b[39m\u001b[38;5;241m3\u001b[39mj\n\u001b[0;32m      2\u001b[0m b1 \u001b[38;5;241m=\u001b[39m \u001b[38;5;241m3\u001b[39m\u001b[38;5;241m+\u001b[39m\u001b[38;5;241m2\u001b[39mj\n\u001b[1;32m----> 3\u001b[0m \u001b[38;5;28mprint\u001b[39m(\u001b[43ma1\u001b[49m\u001b[38;5;241;43m%\u001b[39;49m\u001b[43mb1\u001b[49m)\n",
      "\u001b[1;31mTypeError\u001b[0m: unsupported operand type(s) for %: 'complex' and 'complex'"
     ]
    }
   ],
   "source": [
    "a1 = 5+3j\n",
    "b1 = 3+2j\n",
    "print(a1%b1)"
   ]
  },
  {
   "cell_type": "markdown",
   "id": "96be5ce2",
   "metadata": {},
   "source": [
    "# flour division"
   ]
  },
  {
   "cell_type": "code",
   "execution_count": 40,
   "id": "992da462",
   "metadata": {},
   "outputs": [
    {
     "name": "stdout",
     "output_type": "stream",
     "text": [
      "4\n"
     ]
    }
   ],
   "source": [
    "print(12//3)"
   ]
  },
  {
   "cell_type": "code",
   "execution_count": 42,
   "id": "36136000",
   "metadata": {},
   "outputs": [
    {
     "name": "stdout",
     "output_type": "stream",
     "text": [
      "10574386\n"
     ]
    }
   ],
   "source": [
    "print(475847388//45)"
   ]
  },
  {
   "cell_type": "code",
   "execution_count": 43,
   "id": "acb4a5c7",
   "metadata": {},
   "outputs": [
    {
     "name": "stdout",
     "output_type": "stream",
     "text": [
      "5.2\n"
     ]
    }
   ],
   "source": [
    "print(5.2%28)"
   ]
  },
  {
   "cell_type": "markdown",
   "id": "88193188",
   "metadata": {},
   "source": [
    "# Exponent  "
   ]
  },
  {
   "cell_type": "code",
   "execution_count": 46,
   "id": "081fbbac",
   "metadata": {},
   "outputs": [
    {
     "name": "stdout",
     "output_type": "stream",
     "text": [
      "9\n"
     ]
    }
   ],
   "source": [
    "a = 3\n",
    "b = 2\n",
    "print(a**b)"
   ]
  },
  {
   "cell_type": "code",
   "execution_count": 48,
   "id": "65522bf5",
   "metadata": {},
   "outputs": [
    {
     "name": "stdout",
     "output_type": "stream",
     "text": [
      "56999409876619861280136625\n"
     ]
    }
   ],
   "source": [
    "print(384848785**3)"
   ]
  },
  {
   "cell_type": "code",
   "execution_count": 51,
   "id": "c95b4b4d",
   "metadata": {},
   "outputs": [
    {
     "name": "stdout",
     "output_type": "stream",
     "text": [
      "2.4\n"
     ]
    }
   ],
   "source": [
    "w = 60\n",
    "h = 5\n",
    "v = h**2\n",
    "print(w/v)"
   ]
  },
  {
   "cell_type": "code",
   "execution_count": 52,
   "id": "9eca0110",
   "metadata": {},
   "outputs": [
    {
     "name": "stdout",
     "output_type": "stream",
     "text": [
      "31.17642703581025\n"
     ]
    }
   ],
   "source": [
    "print(5.5835855**2)"
   ]
  },
  {
   "cell_type": "markdown",
   "id": "d7dfd279",
   "metadata": {},
   "source": [
    "# Boolean operator"
   ]
  },
  {
   "cell_type": "code",
   "execution_count": 53,
   "id": "3cc2e271",
   "metadata": {},
   "outputs": [
    {
     "name": "stdout",
     "output_type": "stream",
     "text": [
      "<class 'bool'>\n"
     ]
    }
   ],
   "source": [
    "a = True\n",
    "print(type(a))"
   ]
  },
  {
   "cell_type": "code",
   "execution_count": 54,
   "id": "771b78ce",
   "metadata": {},
   "outputs": [
    {
     "name": "stdout",
     "output_type": "stream",
     "text": [
      "<class 'bool'>\n"
     ]
    }
   ],
   "source": [
    "a1 = True\n",
    "print(type(a))"
   ]
  },
  {
   "cell_type": "markdown",
   "id": "95321873",
   "metadata": {},
   "source": [
    "# comparison operator"
   ]
  },
  {
   "cell_type": "markdown",
   "id": "d604b7b2",
   "metadata": {},
   "source": [
    "used to compare values.These operator True  or False based on whether the comparison is true or false"
   ]
  },
  {
   "cell_type": "markdown",
   "id": "e94844cf",
   "metadata": {},
   "source": [
    "Equal to =="
   ]
  },
  {
   "cell_type": "code",
   "execution_count": 55,
   "id": "f98d698f",
   "metadata": {},
   "outputs": [
    {
     "name": "stdout",
     "output_type": "stream",
     "text": [
      "False\n"
     ]
    }
   ],
   "source": [
    "x = 5\n",
    "y = 6\n",
    "print(x==y)"
   ]
  },
  {
   "cell_type": "code",
   "execution_count": 56,
   "id": "068ceb04",
   "metadata": {},
   "outputs": [
    {
     "name": "stdout",
     "output_type": "stream",
     "text": [
      "True\n"
     ]
    }
   ],
   "source": [
    "x = 3\n",
    "y = 3\n",
    "print(x==y)"
   ]
  },
  {
   "cell_type": "markdown",
   "id": "418a7df8",
   "metadata": {},
   "source": [
    "not equal to !="
   ]
  },
  {
   "cell_type": "code",
   "execution_count": 57,
   "id": "7ef61dbb",
   "metadata": {},
   "outputs": [
    {
     "name": "stdout",
     "output_type": "stream",
     "text": [
      "False\n"
     ]
    }
   ],
   "source": [
    "x = 3\n",
    "y = 3\n",
    "print(x!=y)"
   ]
  },
  {
   "cell_type": "code",
   "execution_count": 58,
   "id": "45627b9b",
   "metadata": {},
   "outputs": [
    {
     "name": "stdout",
     "output_type": "stream",
     "text": [
      "True\n"
     ]
    }
   ],
   "source": [
    "x = 3\n",
    "y = 5\n",
    "print(x!=y)"
   ]
  },
  {
   "cell_type": "markdown",
   "id": "35202886",
   "metadata": {},
   "source": [
    "# Greater than >"
   ]
  },
  {
   "cell_type": "code",
   "execution_count": 59,
   "id": "85e88980",
   "metadata": {},
   "outputs": [
    {
     "name": "stdout",
     "output_type": "stream",
     "text": [
      "True\n"
     ]
    }
   ],
   "source": [
    "x = 5\n",
    "y = 3\n",
    "print(x>y)"
   ]
  },
  {
   "cell_type": "code",
   "execution_count": 60,
   "id": "fc4bb43f",
   "metadata": {},
   "outputs": [
    {
     "name": "stdout",
     "output_type": "stream",
     "text": [
      "False\n"
     ]
    }
   ],
   "source": [
    "x = 5\n",
    "y = 9\n",
    "print(x>y)"
   ]
  },
  {
   "cell_type": "markdown",
   "id": "b0508c47",
   "metadata": {},
   "source": [
    "# Less than <"
   ]
  },
  {
   "cell_type": "code",
   "execution_count": 61,
   "id": "cbe2ea2d",
   "metadata": {},
   "outputs": [
    {
     "name": "stdout",
     "output_type": "stream",
     "text": [
      "False\n"
     ]
    }
   ],
   "source": [
    "print(174<57)"
   ]
  },
  {
   "cell_type": "markdown",
   "id": "b4f52157",
   "metadata": {},
   "source": [
    "# Greater than equal to >="
   ]
  },
  {
   "cell_type": "code",
   "execution_count": 62,
   "id": "2746d846",
   "metadata": {},
   "outputs": [
    {
     "name": "stdout",
     "output_type": "stream",
     "text": [
      "True\n"
     ]
    }
   ],
   "source": [
    "x = 5\n",
    "y = 5\n",
    "print(x>=y)"
   ]
  },
  {
   "cell_type": "markdown",
   "id": "3825d585",
   "metadata": {},
   "source": [
    "# less than equal to <="
   ]
  },
  {
   "cell_type": "code",
   "execution_count": 63,
   "id": "cf9ed6f3",
   "metadata": {},
   "outputs": [
    {
     "name": "stdout",
     "output_type": "stream",
     "text": [
      "True\n"
     ]
    }
   ],
   "source": [
    "x = 5\n",
    "y = 5\n",
    "print(x<=y)"
   ]
  },
  {
   "cell_type": "code",
   "execution_count": null,
   "id": "7dba33bb",
   "metadata": {},
   "outputs": [],
   "source": []
  },
  {
   "cell_type": "code",
   "execution_count": null,
   "id": "fe8f84ac",
   "metadata": {},
   "outputs": [],
   "source": []
  },
  {
   "cell_type": "code",
   "execution_count": null,
   "id": "80acf216",
   "metadata": {},
   "outputs": [],
   "source": []
  },
  {
   "cell_type": "code",
   "execution_count": null,
   "id": "f16ed8a5",
   "metadata": {},
   "outputs": [],
   "source": []
  }
 ],
 "metadata": {
  "kernelspec": {
   "display_name": "Python 3",
   "language": "python",
   "name": "python3"
  },
  "language_info": {
   "codemirror_mode": {
    "name": "ipython",
    "version": 3
   },
   "file_extension": ".py",
   "mimetype": "text/x-python",
   "name": "python",
   "nbconvert_exporter": "python",
   "pygments_lexer": "ipython3",
   "version": "3.12.10"
  }
 },
 "nbformat": 4,
 "nbformat_minor": 5
}
