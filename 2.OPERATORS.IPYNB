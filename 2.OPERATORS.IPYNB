{
 "cells": [
  {
   "cell_type": "markdown",
   "id": "905ce15d",
   "metadata": {},
   "source": [
    "#  Arthematic operator"
   ]
  },
  {
   "cell_type": "markdown",
   "id": "3d4a2796",
   "metadata": {},
   "source": [
    "Addition"
   ]
  },
  {
   "cell_type": "code",
   "execution_count": 28,
   "id": "c3bd53ef",
   "metadata": {},
   "outputs": [
    {
     "name": "stdout",
     "output_type": "stream",
     "text": [
      "4\n"
     ]
    }
   ],
   "source": [
    "a = 1\n",
    "b = 3\n",
    "print(a+b)"
   ]
  },
  {
   "cell_type": "code",
   "execution_count": 29,
   "id": "fffd4662",
   "metadata": {},
   "outputs": [
    {
     "name": "stdout",
     "output_type": "stream",
     "text": [
      "4.0\n"
     ]
    }
   ],
   "source": [
    "x = 1.5 #float values\n",
    "y = 2.5\n",
    "print(x+y)"
   ]
  },
  {
   "cell_type": "code",
   "execution_count": 30,
   "id": "1ab7bff3",
   "metadata": {},
   "outputs": [
    {
     "name": "stdout",
     "output_type": "stream",
     "text": [
      "hellostudents\n"
     ]
    }
   ],
   "source": [
    "a1 = \"hello\"\n",
    "b1 = \"students\"\n",
    "print(a1+b1)"
   ]
  },
  {
   "cell_type": "code",
   "execution_count": 31,
   "id": "ff7f82e1",
   "metadata": {},
   "outputs": [
    {
     "name": "stdout",
     "output_type": "stream",
     "text": [
      "hello students\n"
     ]
    }
   ],
   "source": [
    "a1 = \"hello\"    #string\n",
    "b1 = \"students\"\n",
    "print(a1+\" \"+b1)"
   ]
  },
  {
   "cell_type": "code",
   "execution_count": 32,
   "id": "d314ddf7",
   "metadata": {},
   "outputs": [
    {
     "name": "stdout",
     "output_type": "stream",
     "text": [
      "(3+8j)\n"
     ]
    }
   ],
   "source": [
    "x1 = 2+3j  #complex number\n",
    "y1 = 1+5j\n",
    "print(x1+y1)"
   ]
  },
  {
   "cell_type": "code",
   "execution_count": 33,
   "id": "200f7fdc",
   "metadata": {},
   "outputs": [
    {
     "name": "stdout",
     "output_type": "stream",
     "text": [
      "-2\n"
     ]
    }
   ],
   "source": [
    "w1 = -5\n",
    "w2 = 3\n",
    "print(w1+w2)"
   ]
  },
  {
   "cell_type": "markdown",
   "id": "0ab192ae",
   "metadata": {},
   "source": [
    "Subtraction operator"
   ]
  },
  {
   "cell_type": "code",
   "execution_count": 34,
   "id": "58eba606",
   "metadata": {},
   "outputs": [
    {
     "name": "stdout",
     "output_type": "stream",
     "text": [
      "5\n"
     ]
    }
   ],
   "source": [
    "num1 = 8\n",
    "num2 = 3\n",
    "print(num1 - num2)\n"
   ]
  },
  {
   "cell_type": "code",
   "execution_count": 35,
   "id": "cf00ca32",
   "metadata": {},
   "outputs": [
    {
     "name": "stdout",
     "output_type": "stream",
     "text": [
      "0.019999999999999574\n"
     ]
    }
   ],
   "source": [
    "a4 = 5.67\n",
    "b4 = 5.65\n",
    "print(a4-b4)"
   ]
  },
  {
   "cell_type": "code",
   "execution_count": 36,
   "id": "5b7f37f0",
   "metadata": {},
   "outputs": [
    {
     "ename": "TypeError",
     "evalue": "unsupported operand type(s) for -: 'str' and 'str'",
     "output_type": "error",
     "traceback": [
      "\u001b[1;31m---------------------------------------------------------------------------\u001b[0m",
      "\u001b[1;31mTypeError\u001b[0m                                 Traceback (most recent call last)",
      "Cell \u001b[1;32mIn[36], line 3\u001b[0m\n\u001b[0;32m      1\u001b[0m a \u001b[38;5;241m=\u001b[39m\u001b[38;5;124m\"\u001b[39m\u001b[38;5;124mhello\u001b[39m\u001b[38;5;124m\"\u001b[39m   \u001b[38;5;66;03m#cant support string in subtraction operator\u001b[39;00m\n\u001b[0;32m      2\u001b[0m b \u001b[38;5;241m=\u001b[39m \u001b[38;5;124m\"\u001b[39m\u001b[38;5;124mstudents\u001b[39m\u001b[38;5;124m\"\u001b[39m\n\u001b[1;32m----> 3\u001b[0m \u001b[38;5;28mprint\u001b[39m(\u001b[43ma\u001b[49m\u001b[38;5;241;43m-\u001b[39;49m\u001b[43mb\u001b[49m)\n",
      "\u001b[1;31mTypeError\u001b[0m: unsupported operand type(s) for -: 'str' and 'str'"
     ]
    }
   ],
   "source": [
    "a =\"hello\"   #cant support string in subtraction operator\n",
    "b = \"students\"\n",
    "print(a-b)"
   ]
  },
  {
   "cell_type": "code",
   "execution_count": null,
   "id": "b6b31d66",
   "metadata": {},
   "outputs": [
    {
     "name": "stdout",
     "output_type": "stream",
     "text": [
      "(2+4j)\n"
     ]
    }
   ],
   "source": [
    "a1=5+9j\n",
    "c1=3+5j\n",
    "print(a1-c1)"
   ]
  },
  {
   "cell_type": "markdown",
   "id": "f81493c9",
   "metadata": {},
   "source": [
    "Multiplication"
   ]
  },
  {
   "cell_type": "code",
   "execution_count": null,
   "id": "34fb606d",
   "metadata": {},
   "outputs": [
    {
     "name": "stdout",
     "output_type": "stream",
     "text": [
      "15\n"
     ]
    }
   ],
   "source": [
    "n  = 3\n",
    "b = 5\n",
    "print(n*b)"
   ]
  },
  {
   "cell_type": "code",
   "execution_count": null,
   "id": "e8d8a7c8",
   "metadata": {},
   "outputs": [
    {
     "name": "stdout",
     "output_type": "stream",
     "text": [
      "20.282933584690454\n"
     ]
    }
   ],
   "source": [
    "n1 = 3.4556860444566\n",
    "b1 = 5.8694375946643345\n",
    "print(n1*b1)"
   ]
  },
  {
   "cell_type": "code",
   "execution_count": null,
   "id": "a9aac30c",
   "metadata": {},
   "outputs": [
    {
     "name": "stdout",
     "output_type": "stream",
     "text": [
      "hellohellohellohellohello\n"
     ]
    }
   ],
   "source": [
    "str = \"hello\"\n",
    "print(str*5)"
   ]
  },
  {
   "cell_type": "code",
   "execution_count": null,
   "id": "f60b31ee",
   "metadata": {},
   "outputs": [
    {
     "ename": "TypeError",
     "evalue": "can't multiply sequence by non-int of type 'str'",
     "output_type": "error",
     "traceback": [
      "\u001b[1;31m---------------------------------------------------------------------------\u001b[0m",
      "\u001b[1;31mTypeError\u001b[0m                                 Traceback (most recent call last)",
      "Cell \u001b[1;32mIn[24], line 3\u001b[0m\n\u001b[0;32m      1\u001b[0m str1 \u001b[38;5;241m=\u001b[39m \u001b[38;5;124m\"\u001b[39m\u001b[38;5;124mhello\u001b[39m\u001b[38;5;124m\"\u001b[39m\n\u001b[0;32m      2\u001b[0m str2 \u001b[38;5;241m=\u001b[39m \u001b[38;5;124m\"\u001b[39m\u001b[38;5;124mword\u001b[39m\u001b[38;5;124m\"\u001b[39m\n\u001b[1;32m----> 3\u001b[0m \u001b[38;5;28mprint\u001b[39m(\u001b[43mstr1\u001b[49m\u001b[38;5;241;43m*\u001b[39;49m\u001b[43mstr2\u001b[49m)\n",
      "\u001b[1;31mTypeError\u001b[0m: can't multiply sequence by non-int of type 'str'"
     ]
    }
   ],
   "source": [
    "str1 = \"hello\" # cant multiply two string\n",
    "str2 = \"word\"\n",
    "print(str1*str2)"
   ]
  },
  {
   "cell_type": "code",
   "execution_count": null,
   "id": "0f6fb229",
   "metadata": {},
   "outputs": [
    {
     "name": "stdout",
     "output_type": "stream",
     "text": [
      "(-6+17j)\n"
     ]
    }
   ],
   "source": [
    "a1 = 2+3j\n",
    "b1 = 3+4j\n",
    "print(a1*b1)"
   ]
  },
  {
   "cell_type": "markdown",
   "id": "d46e628e",
   "metadata": {},
   "source": [
    "# Division"
   ]
  },
  {
   "cell_type": "code",
   "execution_count": null,
   "id": "dea36738",
   "metadata": {},
   "outputs": [
    {
     "name": "stdout",
     "output_type": "stream",
     "text": [
      "5.0\n"
     ]
    }
   ],
   "source": [
    "a = 15\n",
    "b = 3\n",
    "print(a/b)"
   ]
  },
  {
   "cell_type": "code",
   "execution_count": null,
   "id": "ad147b1d",
   "metadata": {},
   "outputs": [
    {
     "name": "stdout",
     "output_type": "stream",
     "text": [
      "65099.01336259347\n"
     ]
    }
   ],
   "source": [
    "a1 = 1529485.584783\n",
    "b1 = 23.494758304\n",
    "print(a1/b1)"
   ]
  },
  {
   "cell_type": "code",
   "execution_count": null,
   "id": "a6a0800d",
   "metadata": {},
   "outputs": [
    {
     "name": "stdout",
     "output_type": "stream",
     "text": [
      "(1.6-0.2j)\n"
     ]
    }
   ],
   "source": [
    "v1 = 2+3j\n",
    "v2 =1+2j\n",
    "print(v1/v2)"
   ]
  },
  {
   "cell_type": "code",
   "execution_count": null,
   "id": "4f1a5906",
   "metadata": {},
   "outputs": [
    {
     "ename": "TypeError",
     "evalue": "unsupported operand type(s) for /: 'str' and 'str'",
     "output_type": "error",
     "traceback": [
      "\u001b[1;31m---------------------------------------------------------------------------\u001b[0m",
      "\u001b[1;31mTypeError\u001b[0m                                 Traceback (most recent call last)",
      "Cell \u001b[1;32mIn[30], line 3\u001b[0m\n\u001b[0;32m      1\u001b[0m str1 \u001b[38;5;241m=\u001b[39m \u001b[38;5;124m\"\u001b[39m\u001b[38;5;124mhello\u001b[39m\u001b[38;5;124m\"\u001b[39m \u001b[38;5;66;03m# cant divide two string\u001b[39;00m\n\u001b[0;32m      2\u001b[0m str2 \u001b[38;5;241m=\u001b[39m \u001b[38;5;124m\"\u001b[39m\u001b[38;5;124mword\u001b[39m\u001b[38;5;124m\"\u001b[39m\n\u001b[1;32m----> 3\u001b[0m \u001b[38;5;28mprint\u001b[39m(\u001b[43mstr1\u001b[49m\u001b[38;5;241;43m/\u001b[39;49m\u001b[43mstr2\u001b[49m)\n",
      "\u001b[1;31mTypeError\u001b[0m: unsupported operand type(s) for /: 'str' and 'str'"
     ]
    }
   ],
   "source": [
    "str1 = \"hello\" # cant divide two string\n",
    "str2 = \"word\"\n",
    "print(str1/str2)"
   ]
  },
  {
   "cell_type": "markdown",
   "id": "6aab52be",
   "metadata": {},
   "source": [
    "# Modulous"
   ]
  },
  {
   "cell_type": "code",
   "execution_count": null,
   "id": "46c412dd",
   "metadata": {},
   "outputs": [
    {
     "name": "stdout",
     "output_type": "stream",
     "text": [
      "0\n"
     ]
    }
   ],
   "source": [
    "print(12%3)"
   ]
  },
  {
   "cell_type": "code",
   "execution_count": null,
   "id": "cbcc33c3",
   "metadata": {},
   "outputs": [
    {
     "name": "stdout",
     "output_type": "stream",
     "text": [
      "4\n"
     ]
    }
   ],
   "source": [
    "print(19%5)"
   ]
  },
  {
   "cell_type": "code",
   "execution_count": null,
   "id": "e4603e2a",
   "metadata": {},
   "outputs": [
    {
     "name": "stdout",
     "output_type": "stream",
     "text": [
      "39\n"
     ]
    }
   ],
   "source": [
    "print(2347758958549444%85)"
   ]
  },
  {
   "cell_type": "code",
   "execution_count": null,
   "id": "362c967a",
   "metadata": {},
   "outputs": [
    {
     "name": "stdout",
     "output_type": "stream",
     "text": [
      "1.1944000000000257\n"
     ]
    }
   ],
   "source": [
    "a1 = 495.5944\n",
    "b1 = 2.4\n",
    "print(a1%b1)"
   ]
  },
  {
   "cell_type": "code",
   "execution_count": null,
   "id": "8afe7b97",
   "metadata": {},
   "outputs": [
    {
     "ename": "TypeError",
     "evalue": "unsupported operand type(s) for %: 'complex' and 'complex'",
     "output_type": "error",
     "traceback": [
      "\u001b[1;31m---------------------------------------------------------------------------\u001b[0m",
      "\u001b[1;31mTypeError\u001b[0m                                 Traceback (most recent call last)",
      "Cell \u001b[1;32mIn[37], line 3\u001b[0m\n\u001b[0;32m      1\u001b[0m a1 \u001b[38;5;241m=\u001b[39m \u001b[38;5;241m5\u001b[39m\u001b[38;5;241m+\u001b[39m\u001b[38;5;241m3\u001b[39mj\n\u001b[0;32m      2\u001b[0m b1 \u001b[38;5;241m=\u001b[39m \u001b[38;5;241m3\u001b[39m\u001b[38;5;241m+\u001b[39m\u001b[38;5;241m2\u001b[39mj\n\u001b[1;32m----> 3\u001b[0m \u001b[38;5;28mprint\u001b[39m(\u001b[43ma1\u001b[49m\u001b[38;5;241;43m%\u001b[39;49m\u001b[43mb1\u001b[49m)\n",
      "\u001b[1;31mTypeError\u001b[0m: unsupported operand type(s) for %: 'complex' and 'complex'"
     ]
    }
   ],
   "source": [
    "a1 = 5+3j\n",
    "b1 = 3+2j\n",
    "print(a1%b1)"
   ]
  },
  {
   "cell_type": "markdown",
   "id": "96be5ce2",
   "metadata": {},
   "source": [
    "# flour division"
   ]
  },
  {
   "cell_type": "code",
   "execution_count": null,
   "id": "992da462",
   "metadata": {},
   "outputs": [
    {
     "name": "stdout",
     "output_type": "stream",
     "text": [
      "4\n"
     ]
    }
   ],
   "source": [
    "print(12//3)"
   ]
  },
  {
   "cell_type": "code",
   "execution_count": null,
   "id": "36136000",
   "metadata": {},
   "outputs": [
    {
     "name": "stdout",
     "output_type": "stream",
     "text": [
      "10574386\n"
     ]
    }
   ],
   "source": [
    "print(475847388//45)"
   ]
  },
  {
   "cell_type": "code",
   "execution_count": null,
   "id": "acb4a5c7",
   "metadata": {},
   "outputs": [
    {
     "name": "stdout",
     "output_type": "stream",
     "text": [
      "5.2\n"
     ]
    }
   ],
   "source": [
    "print(5.2%28)"
   ]
  },
  {
   "cell_type": "markdown",
   "id": "88193188",
   "metadata": {},
   "source": [
    "# Exponent  "
   ]
  },
  {
   "cell_type": "code",
   "execution_count": null,
   "id": "081fbbac",
   "metadata": {},
   "outputs": [
    {
     "name": "stdout",
     "output_type": "stream",
     "text": [
      "9\n"
     ]
    }
   ],
   "source": [
    "a = 3\n",
    "b = 2\n",
    "print(a**b)"
   ]
  },
  {
   "cell_type": "code",
   "execution_count": null,
   "id": "65522bf5",
   "metadata": {},
   "outputs": [
    {
     "name": "stdout",
     "output_type": "stream",
     "text": [
      "56999409876619861280136625\n"
     ]
    }
   ],
   "source": [
    "print(384848785**3)"
   ]
  },
  {
   "cell_type": "code",
   "execution_count": null,
   "id": "c95b4b4d",
   "metadata": {},
   "outputs": [
    {
     "name": "stdout",
     "output_type": "stream",
     "text": [
      "2.4\n"
     ]
    }
   ],
   "source": [
    "w = 60\n",
    "h = 5\n",
    "v = h**2\n",
    "print(w/v)"
   ]
  },
  {
   "cell_type": "code",
   "execution_count": null,
   "id": "9eca0110",
   "metadata": {},
   "outputs": [
    {
     "name": "stdout",
     "output_type": "stream",
     "text": [
      "31.17642703581025\n"
     ]
    }
   ],
   "source": [
    "print(5.5835855**2)"
   ]
  },
  {
   "cell_type": "markdown",
   "id": "d7dfd279",
   "metadata": {},
   "source": [
    "# Boolean operator"
   ]
  },
  {
   "cell_type": "code",
   "execution_count": null,
   "id": "3cc2e271",
   "metadata": {},
   "outputs": [
    {
     "name": "stdout",
     "output_type": "stream",
     "text": [
      "<class 'bool'>\n"
     ]
    }
   ],
   "source": [
    "a = True\n",
    "print(type(a))"
   ]
  },
  {
   "cell_type": "code",
   "execution_count": null,
   "id": "771b78ce",
   "metadata": {},
   "outputs": [
    {
     "name": "stdout",
     "output_type": "stream",
     "text": [
      "<class 'bool'>\n"
     ]
    }
   ],
   "source": [
    "a1 = True\n",
    "print(type(a))"
   ]
  },
  {
   "cell_type": "markdown",
   "id": "95321873",
   "metadata": {},
   "source": [
    "# comparison operator"
   ]
  },
  {
   "cell_type": "markdown",
   "id": "d604b7b2",
   "metadata": {},
   "source": [
    "used to compare values.These operator True  or False based on whether the comparison is true or false"
   ]
  },
  {
   "cell_type": "markdown",
   "id": "e94844cf",
   "metadata": {},
   "source": [
    "Equal to =="
   ]
  },
  {
   "cell_type": "code",
   "execution_count": null,
   "id": "f98d698f",
   "metadata": {},
   "outputs": [
    {
     "name": "stdout",
     "output_type": "stream",
     "text": [
      "False\n"
     ]
    }
   ],
   "source": [
    "x = 5\n",
    "y = 6\n",
    "print(x==y)"
   ]
  },
  {
   "cell_type": "code",
   "execution_count": null,
   "id": "068ceb04",
   "metadata": {},
   "outputs": [
    {
     "name": "stdout",
     "output_type": "stream",
     "text": [
      "True\n"
     ]
    }
   ],
   "source": [
    "x = 3\n",
    "y = 3\n",
    "print(x==y)"
   ]
  },
  {
   "cell_type": "markdown",
   "id": "418a7df8",
   "metadata": {},
   "source": [
    "not equal to !="
   ]
  },
  {
   "cell_type": "code",
   "execution_count": null,
   "id": "7ef61dbb",
   "metadata": {},
   "outputs": [
    {
     "name": "stdout",
     "output_type": "stream",
     "text": [
      "False\n"
     ]
    }
   ],
   "source": [
    "x = 3\n",
    "y = 3\n",
    "print(x!=y)"
   ]
  },
  {
   "cell_type": "code",
   "execution_count": null,
   "id": "45627b9b",
   "metadata": {},
   "outputs": [
    {
     "name": "stdout",
     "output_type": "stream",
     "text": [
      "True\n"
     ]
    }
   ],
   "source": [
    "x = 3\n",
    "y = 5\n",
    "print(x!=y)"
   ]
  },
  {
   "cell_type": "markdown",
   "id": "35202886",
   "metadata": {},
   "source": [
    "# Greater than >"
   ]
  },
  {
   "cell_type": "code",
   "execution_count": null,
   "id": "85e88980",
   "metadata": {},
   "outputs": [
    {
     "name": "stdout",
     "output_type": "stream",
     "text": [
      "True\n"
     ]
    }
   ],
   "source": [
    "x = 5\n",
    "y = 3\n",
    "print(x>y)"
   ]
  },
  {
   "cell_type": "code",
   "execution_count": null,
   "id": "fc4bb43f",
   "metadata": {},
   "outputs": [
    {
     "name": "stdout",
     "output_type": "stream",
     "text": [
      "False\n"
     ]
    }
   ],
   "source": [
    "x = 5\n",
    "y = 9\n",
    "print(x>y)"
   ]
  },
  {
   "cell_type": "markdown",
   "id": "b0508c47",
   "metadata": {},
   "source": [
    "# Less than <"
   ]
  },
  {
   "cell_type": "code",
   "execution_count": null,
   "id": "cbe2ea2d",
   "metadata": {},
   "outputs": [
    {
     "name": "stdout",
     "output_type": "stream",
     "text": [
      "False\n"
     ]
    }
   ],
   "source": [
    "print(174<57)"
   ]
  },
  {
   "cell_type": "markdown",
   "id": "b4f52157",
   "metadata": {},
   "source": [
    "# Greater than equal to >="
   ]
  },
  {
   "cell_type": "code",
   "execution_count": null,
   "id": "2746d846",
   "metadata": {},
   "outputs": [
    {
     "name": "stdout",
     "output_type": "stream",
     "text": [
      "True\n"
     ]
    }
   ],
   "source": [
    "x = 5\n",
    "y = 5\n",
    "print(x>=y)"
   ]
  },
  {
   "cell_type": "markdown",
   "id": "3825d585",
   "metadata": {},
   "source": [
    "# less than equal to <="
   ]
  },
  {
   "cell_type": "code",
   "execution_count": 38,
   "id": "cf9ed6f3",
   "metadata": {},
   "outputs": [
    {
     "name": "stdout",
     "output_type": "stream",
     "text": [
      "True\n"
     ]
    }
   ],
   "source": [
    "x = 5\n",
    "y = 5\n",
    "print(x<=y)"
   ]
  },
  {
   "cell_type": "markdown",
   "id": "2bfffbfd",
   "metadata": {},
   "source": [
    "# Logical operator"
   ]
  },
  {
   "cell_type": "code",
   "execution_count": 39,
   "id": "74707d7d",
   "metadata": {},
   "outputs": [
    {
     "name": "stdout",
     "output_type": "stream",
     "text": [
      "False\n"
     ]
    }
   ],
   "source": [
    "x = True\n",
    "y = False\n",
    "print(x and y)"
   ]
  },
  {
   "cell_type": "code",
   "execution_count": 40,
   "id": "fe8f84ac",
   "metadata": {},
   "outputs": [
    {
     "name": "stdout",
     "output_type": "stream",
     "text": [
      "True\n"
     ]
    }
   ],
   "source": [
    "x = True\n",
    "y = False\n",
    "print(x or y)"
   ]
  },
  {
   "cell_type": "code",
   "execution_count": 41,
   "id": "80acf216",
   "metadata": {},
   "outputs": [
    {
     "name": "stdout",
     "output_type": "stream",
     "text": [
      "False\n"
     ]
    }
   ],
   "source": [
    "x = True\n",
    "print(not  x)"
   ]
  },
  {
   "cell_type": "code",
   "execution_count": null,
   "id": "f16ed8a5",
   "metadata": {},
   "outputs": [
    {
     "name": "stdout",
     "output_type": "stream",
     "text": [
      "True\n"
     ]
    }
   ],
   "source": [
    "x = False\n",
    "print(not x)"
   ]
  },
  {
   "cell_type": "markdown",
   "id": "286b8c65",
   "metadata": {},
   "source": [
    "# Practice question"
   ]
  },
  {
   "cell_type": "markdown",
   "id": "3ef33bee",
   "metadata": {},
   "source": [
    "Question 1.\n",
    "\n",
    " You have a data containing two record: \"Quantity\" and \"Price per Unit\". How would you use arithmetic operators to calculate the total cost for each item, also calculate the total cost?\n",
    "product 1, Quantity - 5 , Price per Unit - Rs 250\n",
    "product 2, Quantity - 25 , Price per Unit - Rs 656\n",
    "product 3 ,Quantity - 34, Price per Unit - Rs 274"
   ]
  },
  {
   "cell_type": "code",
   "execution_count": 56,
   "id": "f584b98e",
   "metadata": {},
   "outputs": [
    {
     "name": "stdout",
     "output_type": "stream",
     "text": [
      "The price of product 1 is 1250\n",
      "The price of prodict 2 is  16400\n",
      "The price of prodict 3 is  9316\n",
      "The Total price customer need to pay is  26966\n"
     ]
    }
   ],
   "source": [
    "product_1 = 5*250\n",
    "product_2 = 25*656\n",
    "product_3 = 34*274\n",
    "\n",
    "print(\"The price of product 1 is\" ,product_1)\n",
    "print(\"The price of prodict 2 is \" ,product_2)\n",
    "print(\"The price of prodict 3 is \" ,product_3)\n",
    "\n",
    "print(\"The Total price customer need to pay is \",product_1 + product_2 +product_3)"
   ]
  },
  {
   "cell_type": "markdown",
   "id": "061dabbe",
   "metadata": {},
   "source": [
    "Question 2.\n",
    "\n",
    "In a finance-based organization, the task is to calculate the simple interest given the principal amount, interest rate, and time period. The interest rate is 8%, the principal amount is Rs 15,00,000, and the time period is 3 years. Calculate the simple interest. Also, the threshold amount is Rs 1,20,000. Please check if the calculated interest is greater or less than the threshold amount.\n"
   ]
  },
  {
   "cell_type": "code",
   "execution_count": null,
   "id": "028939de",
   "metadata": {},
   "outputs": [
    {
     "name": "stdout",
     "output_type": "stream",
     "text": [
      "The simple interest is 360000.0\n",
      "True\n",
      "The value of simple interst id gretter than threshold\n"
     ]
    }
   ],
   "source": [
    "p = 1500000\n",
    "r = 8\n",
    "t = 3\n",
    "threshold = 120000\n",
    "SI = (p*r*t)/100\n",
    "\n",
    "print(\"The simple interest is\",SI)\n",
    "comp = SI > threshold\n",
    "print(comp)\n",
    "print(\"The value of simple interst id gretter than threshold\")\n"
   ]
  },
  {
   "cell_type": "markdown",
   "id": "b5682e75",
   "metadata": {},
   "source": [
    "Question 3. H.W\n",
    "\n",
    "write a python program  to calculate the area of circle  with radius  of 12 cm"
   ]
  },
  {
   "cell_type": "code",
   "execution_count": 65,
   "id": "3626535d",
   "metadata": {},
   "outputs": [
    {
     "name": "stdout",
     "output_type": "stream",
     "text": [
      "Area of circle is 452.15999999999997\n"
     ]
    }
   ],
   "source": [
    "r = 12\n",
    "Area = 3.14*r*r\n",
    "print(\"Area of circle is\", Area)"
   ]
  },
  {
   "cell_type": "code",
   "execution_count": 1,
   "id": "3fe9cdc9",
   "metadata": {},
   "outputs": [
    {
     "name": "stdout",
     "output_type": "stream",
     "text": [
      "Area of circle is 452.15999999999997\n"
     ]
    }
   ],
   "source": [
    "r = 12\n",
    "Area = 3.14*r*r\n",
    "print(\"Area of circle is\", Area)"
   ]
  },
  {
   "cell_type": "code",
   "execution_count": 2,
   "id": "7239257e",
   "metadata": {},
   "outputs": [
    {
     "ename": "SyntaxError",
     "evalue": "invalid syntax (3342537457.py, line 3)",
     "output_type": "error",
     "traceback": [
      "\u001b[1;36m  Cell \u001b[1;32mIn[2], line 3\u001b[1;36m\u001b[0m\n\u001b[1;33m    print(\"Area of circle is\", Area)r = 12\u001b[0m\n\u001b[1;37m                                    ^\u001b[0m\n\u001b[1;31mSyntaxError\u001b[0m\u001b[1;31m:\u001b[0m invalid syntax\n"
     ]
    }
   ],
   "source": [
    "r = 12\n",
    "Area = 3.14*r*r\n",
    "print(\"Area of circle is\", Area)r = 12\n",
    "Area = 3.14*r*r\n",
    "print(\"Area of circle is\", Area)"
   ]
  },
  {
   "cell_type": "code",
   "execution_count": null,
   "id": "d3840364",
   "metadata": {},
   "outputs": [],
   "source": [
    "\n"
   ]
  }
 ],
 "metadata": {
  "kernelspec": {
   "display_name": "Python 3",
   "language": "python",
   "name": "python3"
  },
  "language_info": {
   "codemirror_mode": {
    "name": "ipython",
    "version": 3
   },
   "file_extension": ".py",
   "mimetype": "text/x-python",
   "name": "python",
   "nbconvert_exporter": "python",
   "pygments_lexer": "ipython3",
   "version": "3.12.10"
  }
 },
 "nbformat": 4,
 "nbformat_minor": 5
}
